{
 "cells": [
  {
   "cell_type": "code",
   "execution_count": 24,
   "id": "bef52d22-65ba-47c7-b9cf-f001377b6f2b",
   "metadata": {},
   "outputs": [],
   "source": [
    "import numpy as np\n",
    "import matplotlib.pyplot as plt\n",
    "from qiskit import QuantumCircuit\n",
    "from qiskit.circuit import Parameter\n",
    "from qiskit_aer import AerSimulator\n",
    "from qiskit_aer.utils import insert_noise\n",
    "from pyqsp.angle_sequence import angle_sequence\n",
    "from qiskit.quantum_info import Kraus\n",
    "from qiskit_aer.noise import NoiseModel,depolarizing_error\n",
    "from sympy.abc import z\n",
    "from sympy import RootOf,Poly\n",
    "from functools import reduce"
   ]
  },
  {
   "cell_type": "code",
   "execution_count": 51,
   "id": "236f37f8-e1da-43ce-b6dc-d28067957d53",
   "metadata": {},
   "outputs": [],
   "source": [
    "def to_poly(P):\n",
    "    return Poly(reduce(lambda x,y:x+y,[v*z**i for i,v in enumerate(np.array(P,dtype='complex128'))]),z)\n",
    "\n",
    "def getChebyshevCoeffs(deg):\n",
    "    l = np.zeros(deg+1)\n",
    "    l[-1] = 1\n",
    "    return np.polynomial.Polynomial(np.polynomial.chebyshev.cheb2poly(l)).coef"
   ]
  },
  {
   "cell_type": "code",
   "execution_count": 138,
   "id": "c3c32047-f913-4164-add9-86b48bcee29c",
   "metadata": {},
   "outputs": [],
   "source": [
    "P=[-1,2,0,3,4,-5,6,-7,9,20,-10,1]\n",
    "P_poly = to_poly(P)"
   ]
  },
  {
   "cell_type": "code",
   "execution_count": 139,
   "id": "4bb03883-5715-479e-b694-d9623e9aab5a",
   "metadata": {},
   "outputs": [
    {
     "data": {
      "text/plain": [
       "[0.383766887123036,\n",
       " 3.32852123665931,\n",
       " 6.95837117301842,\n",
       " -0.839499532845896 - 0.0176827284570943*I,\n",
       " -0.839499532845896 + 0.0176827284570943*I,\n",
       " -0.266126945643221 - 0.660148036852257*I,\n",
       " -0.266126945643221 + 0.660148036852257*I,\n",
       " 0.0744960730987957 - 0.679228193106682*I,\n",
       " 0.0744960730987957 + 0.679228193106682*I,\n",
       " 0.695800756989939 - 0.436396999809996*I,\n",
       " 0.695800756989939 + 0.436396999809996*I]"
      ]
     },
     "execution_count": 139,
     "metadata": {},
     "output_type": "execute_result"
    }
   ],
   "source": [
    "P_poly.nroots()"
   ]
  },
  {
   "cell_type": "code",
   "execution_count": 131,
   "id": "0fecf6d4-cc8f-4de6-96ff-f40e88d357f9",
   "metadata": {},
   "outputs": [],
   "source": [
    "A=np.array((1-P_poly**2).all_coeffs()[::-1],dtype='complex128')\n",
    "A_tilde = A[np.arange(0,len(P)*2,2)]\n",
    "A_tilde1 = sympy.div(to_poly(A_tilde),to_poly([0,1,-1]))[0]"
   ]
  },
  {
   "cell_type": "code",
   "execution_count": 134,
   "id": "25413d85-f05a-4dd1-bb1a-e3835385f2b3",
   "metadata": {},
   "outputs": [
    {
     "data": {
      "text/plain": [
       "[-138.495479298360,\n",
       " -2.24121477767778,\n",
       " -1.01034899070655 - 0.24965127723085*I,\n",
       " -1.01034899070655 + 0.24965127723085*I,\n",
       " -0.741126942912463 - 0.643522815197835*I,\n",
       " -0.741126942912463 + 0.643522815197835*I,\n",
       " -0.296011699395461 - 0.857055824613986*I,\n",
       " -0.296011699395461 + 0.857055824613986*I,\n",
       " 0.213093186132335 - 0.867551907305136*I,\n",
       " 0.213093186132335 + 0.867551907305136*I,\n",
       " 0.714239481368078 - 0.696756875692874*I,\n",
       " 0.714239481368078 + 0.696756875692874*I,\n",
       " 0.988502003532962 - 0.501683638755905*I,\n",
       " 0.988502003532962 + 0.501683638755905*I]"
      ]
     },
     "execution_count": 134,
     "metadata": {},
     "output_type": "execute_result"
    }
   ],
   "source": [
    "from sympy import RootOf\n",
    "A_tilde1.nroots()"
   ]
  },
  {
   "cell_type": "code",
   "execution_count": 128,
   "id": "e4827eec-33eb-4334-9ea1-92b0763b059f",
   "metadata": {},
   "outputs": [
    {
     "data": {
      "text/plain": [
       "array([-138.4954793 +0.00000000e+00j,   -2.23853021+8.32667268e-16j,\n",
       "         -1.07697054-5.12865253e-16j,   -0.68763586+6.60772872e-01j,\n",
       "         -0.68763586-6.60772872e-01j,    0.14886282-7.88459411e-01j,\n",
       "          0.14886282+7.88459411e-01j,    0.94426307-6.42402902e-01j,\n",
       "          0.94426307+6.42402902e-01j])"
      ]
     },
     "execution_count": 128,
     "metadata": {},
     "output_type": "execute_result"
    }
   ],
   "source": []
  },
  {
   "cell_type": "code",
   "execution_count": null,
   "id": "a423765c-607e-4b4a-85ec-e0eb68aeb08f",
   "metadata": {},
   "outputs": [],
   "source": []
  }
 ],
 "metadata": {
  "kernelspec": {
   "display_name": "Python 3 (ipykernel)",
   "language": "python",
   "name": "python3"
  },
  "language_info": {
   "codemirror_mode": {
    "name": "ipython",
    "version": 3
   },
   "file_extension": ".py",
   "mimetype": "text/x-python",
   "name": "python",
   "nbconvert_exporter": "python",
   "pygments_lexer": "ipython3",
   "version": "3.11.5"
  }
 },
 "nbformat": 4,
 "nbformat_minor": 5
}
