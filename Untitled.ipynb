{
 "cells": [
  {
   "cell_type": "code",
   "execution_count": 1,
   "id": "edbf8b50-dc90-44ae-8577-c35774302ad0",
   "metadata": {},
   "outputs": [],
   "source": [
    "import numpy as np\n",
    "import matplotlib.pyplot as plt\n",
    "from qiskit import QuantumCircuit\n",
    "from qiskit.circuit import Parameter\n",
    "from qiskit_aer import AerSimulator\n",
    "from qiskit_aer.utils import insert_noise\n",
    "from pyqsp.angle_sequence import angle_sequence\n",
    "from qiskit.quantum_info import Kraus\n",
    "from qiskit_aer.noise import NoiseModel,depolarizing_error\n",
    "deg = 10"
   ]
  },
  {
   "cell_type": "code",
   "execution_count": 148,
   "id": "f3bc5b43-c26b-40f9-988c-e68f2c0b88ab",
   "metadata": {},
   "outputs": [],
   "source": [
    "def getChebyshevCoeffs(deg):\n",
    "    l = np.zeros(deg+1)\n",
    "    l[-1] = 1\n",
    "    return np.polynomial.Polynomial(np.polynomial.chebyshev.cheb2poly(l))\n",
    "\n",
    "\n",
    "    \n",
    "def QSP_circuit(angles):\n",
    "    x = Parameter('x')\n",
    "    qc = QuantumCircuit(1)\n",
    "    for i,v in enumerate(angles[::-1]):\n",
    "        qc.rz(-2 * v, 0)\n",
    "        if(i < len(angles)-1):\n",
    "            qc.rx(-np.arccos(x) * 2, 0 )\n",
    "    return qc\n",
    "\n",
    "def get_Kraus(circuit, noise_model):\n",
    "    return Kraus(insert_noise(circuit,noise_model))\n",
    "\n",
    "def get_expectation(Kraus):\n",
    "    rho = np.zeros((2,2),dtype='complex128')\n",
    "    for i in Kraus.data:\n",
    "        rho += i.dot(np.array([[1,0],[0,0]])).dot(i.conjugate().T)\n",
    "    return rho[0][0]"
   ]
  },
  {
   "cell_type": "code",
   "execution_count": null,
   "id": "5b530e1f-47a1-4405-b2d3-0ab0057f6458",
   "metadata": {},
   "outputs": [],
   "source": [
    "from qiskit.quantum_info import Statevector\n",
    "y1 = []\n",
    "y2 = []\n",
    "y3 = []\n",
    "angles=angle_sequence([0,3/4,0,1/4], eps=1e-4, suc=1-1e-4)\n",
    "for x in np.linspace(-1,1,250):\n",
    "    y1.append(Statevector(QSP_circuit(angles[::-1]).assign_parameters([x])).data[0])\n",
    "    y2.append(Statevector(QSP_circuit(angles).assign_parameters([x])).data[0])\n",
    "    #y3.append(Statevector(QSP_circuit(np.zeros(deg+1)).assign_parameters([x])).data[0])"
   ]
  },
  {
   "cell_type": "code",
   "execution_count": null,
   "id": "89d88f24-586b-4bb7-9155-6fe02ddd291f",
   "metadata": {},
   "outputs": [],
   "source": [
    "plt.plot(np.linspace(-1,1,250),np.array(y1).imag,label='exact')\n",
    "plt.plot(np.linspace(-1,1,250),np.array(y2).imag,label='exact')\n",
    "\n",
    "plt.plot(np.linspace(-1,1,250),np.polynomial.Polynomial(np.polynomial.chebyshev.cheb2poly([0,3/4,0,1/4]))(np.linspace(-1,1,250)),'--',label='QSP')\n",
    "plt.legend()"
   ]
  },
  {
   "cell_type": "code",
   "execution_count": null,
   "id": "71ded26d-6db1-4ee3-9ca6-19e884d95219",
   "metadata": {},
   "outputs": [],
   "source": [
    "np.polynomial.Polynomial(np.polynomial.chebyshev.cheb2poly([0,3/4,0,1/4]))"
   ]
  },
  {
   "cell_type": "code",
   "execution_count": null,
   "id": "bcf54963-def3-4a7a-ba2d-1fe95e98c101",
   "metadata": {},
   "outputs": [],
   "source": [
    "angles"
   ]
  },
  {
   "cell_type": "code",
   "execution_count": null,
   "id": "f0607a15-44e4-4cef-b1ec-fa60ec56f4b7",
   "metadata": {},
   "outputs": [],
   "source": [
    "QSP_circuit(angles[::-1]).draw()"
   ]
  },
  {
   "cell_type": "code",
   "execution_count": null,
   "id": "072ed3b1-4b48-4f88-9d32-93160cf5a2d8",
   "metadata": {},
   "outputs": [],
   "source": [
    "QSP_circuit(angles).draw()"
   ]
  },
  {
   "cell_type": "code",
   "execution_count": null,
   "id": "df45c4fc-9030-4b61-86d0-52cbb16782fb",
   "metadata": {},
   "outputs": [],
   "source": [
    "np.polynomial.Polynomial([1+1j])"
   ]
  },
  {
   "cell_type": "code",
   "execution_count": 3,
   "id": "17bb302a-0f32-4de2-abde-35caec899f9a",
   "metadata": {},
   "outputs": [],
   "source": [
    "def get_angles(k, P, Q):\n",
    "    if not( (len(P)-1 - k) % 2 == 0 and (len(Q)-k) % 2 == 0):\n",
    "        raise ValueError(\"Check Polynomial Pairity\")\n",
    "    if not( (len(P)-1 <=k) and (len(Q)-1 <= k-1)):\n",
    "        raise ValueError(\"Check Polynomial Degree\")\n",
    "    \n",
    "    extra = np.pi/2 * (-1)**np.arange(0,k+1-len(P))\n",
    "    phi_list = []\n",
    "    p_temp = np.array(P,dtype='complex128')\n",
    "    q_temp = np.array(Q,dtype='complex128')\n",
    "    \n",
    "    for i in range(len(P)-1):\n",
    "        \n",
    "        phi = np.angle(p_temp[-1]/q_temp[-1])/2\n",
    "        phi_list = np.concatenate(([phi],phi_list))\n",
    "        \n",
    "        p_temp_copy = p_temp\n",
    "        q_temp_copy = q_temp\n",
    "        \n",
    "        p_temp=np.exp(-1j*phi) *(np.concatenate(([0], p_temp_copy)) + np.exp(2*1j*phi) * np.concatenate((q_temp_copy,[0,0]))-np.exp(2*1j*phi) * np.concatenate(([0,0],q_temp_copy)))[:-2]\n",
    "        q_temp=np.exp(-1j*phi) * (np.exp(2*1j*phi) * np.concatenate(([0],q_temp_copy)) -p_temp_copy)[:-2]\n",
    "    phi = np.angle(p_temp[-1])\n",
    "    phi_list = np.concatenate(([phi],phi_list))\n",
    "    return np.concatenate((phi_list,extra))\n",
    "\n",
    "def getQ(P):\n",
    "    A  = (1-np.polynomial.Polynomial(np.array(P, dtype='complex128'))*np.polynomial.Polynomial(np.array(P, dtype='complex128').conjugate())).coef\n",
    "    A_tilde = A[np.arange(0,len(P)*2,2)]\n",
    "    if(len(P) % 2 == 0):\n",
    "        A_tilde1 = np.polydiv(A_tilde,[1,-1])[0]\n",
    "        K = np.sqrt(A_tilde1[-1])\n",
    "        roots = np.polynomial.Polynomial(A_tilde1).roots()\n",
    "        W = K*np.polynomial.polynomial.polyfromroots(roots[roots.imag.argsort()][:len(roots)//2])\n",
    "        return np.insert(arr = W, obj=range(1,len(W)), values=0)\n",
    "    else:\n",
    "        A_tilde1 = np.polydiv(A_tilde[1:],[1,-1])[0]\n",
    "        K = np.sqrt(A_tilde1[-1])\n",
    "        roots = np.polynomial.Polynomial(A_tilde1).roots()\n",
    "        W = K*np.polynomial.polynomial.polyfromroots(roots[roots.imag.argsort()][:len(roots)//2])\n",
    "        return np.concatenate(([0],np.insert(arr = W, obj=range(1,len(W)), values=0)))\n",
    "\n",
    "def split_roots(P):\n",
    "    P_poly = np.polynomial.Polynomial(np.array(P,dtype='complex128'))\n",
    "    root_list = P_poly.roots()\n",
    "    roots = np.array(root_list,dtype='complex128')\n",
    "    split = {'S_0':[],'S_(0,1)':[],'S_(1,+)':[],'S_I':[],'S_C':[]}\n",
    "    for r in roots:\n",
    "        r_current = r\n",
    "        ###Check if S_0\n",
    "        if(abs(r)<1e-6):\n",
    "            if(abs(P_poly(0))<abs(P_poly(r))):\n",
    "                r_current = 0\n",
    "            \n",
    "        ###Check if real\n",
    "        if(abs(r.imag)<1e-6):\n",
    "            if(abs(P_poly(r.real))<abs(P_poly(r))):\n",
    "                r_current = r.real\n",
    "\n",
    "        ###Check if imag\n",
    "        if(abs(r.real)<1e-6):\n",
    "            if(abs(P_poly(r.imag))<abs(P_poly(r))):\n",
    "                r_current = r.imag\n",
    "\n",
    "        if(r_current == 0):\n",
    "            split['S_0'].append(r_current)\n",
    "\n",
    "        elif(r_current.imag == 0):\n",
    "            if(r_current>0 and r_current<1):\n",
    "                split['S_(0,1)'].append(r_current)\n",
    "            elif(r_current>1):\n",
    "                split['S_(1,+)'].append(r_current)\n",
    "        \n",
    "        elif(r_current.real == 0 and r_current.imag>0):\n",
    "            split['S_I'].append(r_current)\n",
    "\n",
    "        elif(r_current.real >0 and r_current.imag>0):\n",
    "            split['S_C'].append(r_current)\n",
    "                \n",
    "            \n",
    "            "
   ]
  },
  {
   "cell_type": "code",
   "execution_count": 9,
   "id": "979fdac2-26f1-4d36-a532-83c040251079",
   "metadata": {},
   "outputs": [
    {
     "name": "stdout",
     "output_type": "stream",
     "text": [
      "(1+0j)\n",
      "(1+0j) + 0j x + (2.220446049250313e-16+0j) x**2 + 0j x**3 -\n",
      "(1.1102230246251565e-16-0j) x**4\n",
      "(1+0j)\n",
      "(1+0j) + 0j x - (1.7763568394002505e-15-0j) x**2\n"
     ]
    }
   ],
   "source": [
    "poly_list = [0,1],[0,1/2,0,1/2],[-1,0,2],[-1,0,6,0,-6]\n",
    "for p in poly_list:\n",
    "    P=np.array(p, dtype='complex128')\n",
    "    Q=getQ(P)\n",
    "    P_poly = np.polynomial.Polynomial(P) * np.polynomial.Polynomial(P.conjugate())\n",
    "    Q_poly = np.polynomial.Polynomial([1,0,-1])*np.polynomial.Polynomial(Q) * np.polynomial.Polynomial(Q.conjugate())\n",
    "    print(P_poly+Q_poly)"
   ]
  },
  {
   "cell_type": "code",
   "execution_count": 16,
   "id": "c62f0001-76d9-45ed-8abc-c02266b5af5c",
   "metadata": {},
   "outputs": [
    {
     "data": {
      "text/plain": [
       "array([ 1.57079633e+00,  5.23598776e-01, -2.22044605e-16, -5.23598776e-01,\n",
       "        1.57079633e+00,  1.57079633e+00, -1.57079633e+00])"
      ]
     },
     "execution_count": 16,
     "metadata": {},
     "output_type": "execute_result"
    }
   ],
   "source": [
    "P=[-1,0,6,0,-6]\n",
    "Q=getQ(P)\n",
    "get_angles(6, P, Q)\n"
   ]
  },
  {
   "cell_type": "code",
   "execution_count": 28,
   "id": "131f60e2-2314-4665-adf3-9ea282073492",
   "metadata": {},
   "outputs": [],
   "source": [
    "from qiskit.quantum_info import Statevector\n",
    "y1 = []\n",
    "y2 = []\n",
    "angles=get_angles(4, P, Q)\n",
    "for x in np.linspace(-1,1,250):\n",
    "    y1.append(Statevector(QSP_circuit(angles[::-1]).assign_parameters([x])).data[0])\n",
    "    y2.append(Statevector(QSP_circuit(angles).assign_parameters([x])).data[0])\n"
   ]
  },
  {
   "cell_type": "code",
   "execution_count": 29,
   "id": "090855c6-3a28-4d3b-be61-f5ee897a24f0",
   "metadata": {},
   "outputs": [
    {
     "name": "stderr",
     "output_type": "stream",
     "text": [
      "C:\\ProgramData\\anaconda3\\envs\\QSVT\\Lib\\site-packages\\matplotlib\\cbook.py:1699: ComplexWarning: Casting complex values to real discards the imaginary part\n",
      "  return math.isfinite(val)\n",
      "C:\\ProgramData\\anaconda3\\envs\\QSVT\\Lib\\site-packages\\matplotlib\\cbook.py:1345: ComplexWarning: Casting complex values to real discards the imaginary part\n",
      "  return np.asarray(x, float)\n"
     ]
    },
    {
     "data": {
      "text/plain": [
       "<matplotlib.legend.Legend at 0x227ea4a9110>"
      ]
     },
     "execution_count": 29,
     "metadata": {},
     "output_type": "execute_result"
    },
    {
     "data": {
      "image/png": "[encoded data removed]",
      "text/plain": [
       "<Figure size 640x480 with 1 Axes>"
      ]
     },
     "metadata": {},
     "output_type": "display_data"
    }
   ],
   "source": [
    "plt.plot(np.linspace(-1,1,250),np.array(y1),label='exact')\n",
    "plt.plot(np.linspace(-1,1,250),np.array(y2),label='exact')\n",
    "\n",
    "plt.plot(np.linspace(-1,1,250),(np.polynomial.Polynomial([-1,0,6,0,-6]))(np.linspace(-1,1,250)),'--',label='QSP')\n",
    "plt.legend()"
   ]
  },
  {
   "cell_type": "code",
   "execution_count": 30,
   "id": "5917578b-349a-4ba2-9515-dd787c4528f3",
   "metadata": {},
   "outputs": [
    {
     "data": {
      "text/plain": [
       "array([ 1.57079633e+00,  5.23598776e-01, -2.22044605e-16, -5.23598776e-01,\n",
       "        1.57079633e+00])"
      ]
     },
     "execution_count": 30,
     "metadata": {},
     "output_type": "execute_result"
    }
   ],
   "source": [
    "angles"
   ]
  },
  {
   "cell_type": "code",
   "execution_count": 131,
   "id": "f72f335d-9d5f-46d3-b9f9-73db04d244fe",
   "metadata": {},
   "outputs": [],
   "source": [
    "new_angles = [angles[0]+angles[-1]+3*np.pi/2]\n",
    "for i in angles[1:-1]:\n",
    "    new_angles.append(i-np.pi/2)\n",
    "new_angles = np.array(new_angles)"
   ]
  },
  {
   "cell_type": "code",
   "execution_count": 132,
   "id": "067e3f68-dbed-422f-a8c4-b96cde453786",
   "metadata": {},
   "outputs": [
    {
     "data": {
      "text/plain": [
       "array([ 7.85398163, -1.04719755, -1.57079633, -2.0943951 ])"
      ]
     },
     "execution_count": 132,
     "metadata": {},
     "output_type": "execute_result"
    }
   ],
   "source": [
    "new_angles"
   ]
  },
  {
   "cell_type": "code",
   "execution_count": 133,
   "id": "944456c8-9914-4604-8c38-fe84f1b6d350",
   "metadata": {},
   "outputs": [],
   "source": [
    "def R(x):\n",
    "    return np.array([[x,np.sqrt(1-x**2)],[np.sqrt(1-x**2),-x]])\n",
    "\n",
    "def W(x):\n",
    "    return np.array([[x,1j * np.sqrt(1-x**2)],[1j * np.sqrt(1-x**2),x]])"
   ]
  },
  {
   "cell_type": "code",
   "execution_count": 134,
   "id": "fcabe78a-7343-494c-a1e3-1f7022e387a1",
   "metadata": {},
   "outputs": [],
   "source": [
    "def Rfunc(x):\n",
    "    op = np.array([[1,0],[0,1]],dtype='complex128')\n",
    "    for i in new_angles:\n",
    "        op @= np.array([[np.exp(1j * i),0],[0,np.exp(-1j * i)]])\n",
    "        op @= R(x)\n",
    "    return op\n",
    "\n",
    "def Wfunc(x):\n",
    "    op = np.array([[np.exp(1j * angles[0]),0],[0,np.exp(-1j * angles[0])]])\n",
    "    for i in angles[1:]:\n",
    "        op @= W(x)\n",
    "        op @= np.array([[np.exp(1j * i),0],[0,np.exp(-1j * i)]])\n",
    "    return op"
   ]
  },
  {
   "cell_type": "code",
   "execution_count": 135,
   "id": "4c261723-c240-43b1-927b-2fedc5330f76",
   "metadata": {},
   "outputs": [
    {
     "data": {
      "text/plain": [
       "array([[-0.9406    +2.29544674e-16j,  0.29252631-1.72336879e-01j],\n",
       "       [-0.29252631-1.72336879e-01j, -0.9406    -1.18397109e-16j]])"
      ]
     },
     "execution_count": 135,
     "metadata": {},
     "output_type": "execute_result"
    }
   ],
   "source": [
    "Rfunc(0.1)"
   ]
  },
  {
   "cell_type": "code",
   "execution_count": 121,
   "id": "8f45ea32-ce21-4073-ba60-3adfdf3ca164",
   "metadata": {},
   "outputs": [
    {
     "data": {
      "text/plain": [
       "array([[-0.9406    -6.10543957e-17j, -0.17233688-2.92526307e-01j],\n",
       "       [ 0.17233688-2.92526307e-01j, -0.9406    +6.10543957e-17j]])"
      ]
     },
     "execution_count": 121,
     "metadata": {},
     "output_type": "execute_result"
    }
   ],
   "source": [
    "Operator(QSP_circuit(angles).assign_parameters([0.1])).data"
   ]
  },
  {
   "cell_type": "code",
   "execution_count": 122,
   "id": "7e25f092-f9c8-435b-a596-353600758a28",
   "metadata": {},
   "outputs": [
    {
     "data": {
      "text/plain": [
       "array([[-0.9406    +2.29006694e-17j, -0.17233688-2.92526307e-01j],\n",
       "       [ 0.17233688-2.92526307e-01j, -0.9406    -2.29006694e-17j]])"
      ]
     },
     "execution_count": 122,
     "metadata": {},
     "output_type": "execute_result"
    }
   ],
   "source": [
    "Wfunc(0.1)"
   ]
  },
  {
   "cell_type": "code",
   "execution_count": 123,
   "id": "2a2d9607-558c-49f3-a622-41f5dc93ceb6",
   "metadata": {},
   "outputs": [
    {
     "ename": "SyntaxError",
     "evalue": "invalid decimal literal (3469489467.py, line 3)",
     "output_type": "error",
     "traceback": [
      "\u001b[1;36m  Cell \u001b[1;32mIn[123], line 3\u001b[1;36m\u001b[0m\n\u001b[1;33m    op =  1j**2np.array([[np.exp(1j * angles[0]),0],[0,np.exp(-1j * angles[0])]]) @ O @ R(x)\u001b[0m\n\u001b[1;37m              ^\u001b[0m\n\u001b[1;31mSyntaxError\u001b[0m\u001b[1;31m:\u001b[0m invalid decimal literal\n"
     ]
    }
   ],
   "source": [
    "# def test(x):\n",
    "#     O = np.array([[np.exp(-1j * np.pi/4),0],[0,np.exp(1j * np.pi/4)]])\n",
    "#     op =  1j**2np.array([[np.exp(1j * angles[0]),0],[0,np.exp(-1j * angles[0])]]) @ O @ R(x)\n",
    "#     for i in angles[1:-1]:\n",
    "#         op @= np.array([[np.exp(1j * (i-np.pi/2)),0],[0,np.exp(-1j * (i-np.pi/2))]])\n",
    "#         op @= R(x)\n",
    "#     op @= np.array([[np.exp(1j * (angles[-1]-np.pi/4)),0],[0,np.exp(-1j * (angles[-1]-np.pi/4))]])\n",
    "#     return op"
   ]
  },
  {
   "cell_type": "code",
   "execution_count": 124,
   "id": "cf83dac9-2df3-4656-ae23-f450438f109c",
   "metadata": {},
   "outputs": [
    {
     "data": {
      "text/plain": [
       "array([[-0.9406    -2.22044605e-16j, -0.17233688-2.92526307e-01j],\n",
       "       [ 0.17233688-2.92526307e-01j, -0.9406    +2.22044605e-16j]])"
      ]
     },
     "execution_count": 124,
     "metadata": {},
     "output_type": "execute_result"
    }
   ],
   "source": [
    "test(0.1)"
   ]
  },
  {
   "cell_type": "code",
   "execution_count": 125,
   "id": "07850191-c8b4-4069-8d67-fdbfacb2f498",
   "metadata": {},
   "outputs": [],
   "source": [
    "def test1(x):\n",
    "    O = np.array([[np.exp(-1j * np.pi/4),0],[0,np.exp(1j * np.pi/4)]])\n",
    "    #op = np.array([[1,0],[0,1]],dtype='complex128')\n",
    "    op =  np.array([[np.exp(1j * (angles[-1]+angles[0]-np.pi/2)),0],[0,np.exp(1j * (-angles[-1]-angles[0]+np.pi/2))]])@ R(x)\n",
    "    for i in angles[1:-1]:\n",
    "        op @=  np.array([[np.exp(1j * (i-np.pi/2)),0],[0,np.exp(-1j * (i-np.pi/2))]])\n",
    "        op @= R(x)\n",
    "    #op @= np.array([[np.exp(1j * (angles[-1]-np.pi/4)),0],[0,np.exp(-1j * (angles[-1]-np.pi/4))]])\n",
    "    return op"
   ]
  },
  {
   "cell_type": "code",
   "execution_count": 115,
   "id": "d0369c4c-0771-4f9f-9a04-040533e94506",
   "metadata": {},
   "outputs": [
    {
     "data": {
      "text/plain": [
       "array([[-0.9406    -3.96809225e-17j,  0.29252631-1.72336879e-01j],\n",
       "       [-0.29252631-1.72336879e-01j, -0.9406    +3.91157830e-17j]])"
      ]
     },
     "execution_count": 115,
     "metadata": {},
     "output_type": "execute_result"
    }
   ],
   "source": [
    "test1(0.1)"
   ]
  },
  {
   "cell_type": "code",
   "execution_count": 91,
   "id": "0a3ef90c-bbbe-4efe-8c3f-0fe4a3df179a",
   "metadata": {},
   "outputs": [
    {
     "data": {
      "text/plain": [
       "(-2.3645037819870813-2.7165044266812983j)"
      ]
     },
     "execution_count": 91,
     "metadata": {},
     "output_type": "execute_result"
    }
   ],
   "source": [
    "-0.9406/( 0.17147303-0.197j)"
   ]
  },
  {
   "cell_type": "code",
   "execution_count": 92,
   "id": "3a54a219-9c09-4302-96c4-074bbe6185c5",
   "metadata": {},
   "outputs": [
    {
     "data": {
      "text/plain": [
       "(-0.7071067811865475+0.7071067811865476j)"
      ]
     },
     "execution_count": 92,
     "metadata": {},
     "output_type": "execute_result"
    }
   ],
   "source": [
    "np.exp(1j * (angles[-1]+angles[0]-np.pi/4))"
   ]
  },
  {
   "cell_type": "code",
   "execution_count": 109,
   "id": "04216377-ebb6-48ce-ac19-3d41e691d109",
   "metadata": {},
   "outputs": [
    {
     "data": {
      "text/plain": [
       "array([[1.+0.j, 0.+0.j],\n",
       "       [0.+0.j, 1.+0.j]])"
      ]
     },
     "execution_count": 109,
     "metadata": {},
     "output_type": "execute_result"
    }
   ],
   "source": [
    "np.array([[np.exp(1j * (angles[-1]+angles[0]-np.pi/2)),0],[0,np.exp(1j * (angles[-1]+angles[0]-np.pi/2))]])/np.exp(1j * (angles[-1]+angles[0]-np.pi/2))"
   ]
  },
  {
   "cell_type": "code",
   "execution_count": 155,
   "id": "c5bea88b-29bc-4a87-97f0-0d3460277e8a",
   "metadata": {},
   "outputs": [],
   "source": [
    "P=getChebyshevCoeffs(5).coef"
   ]
  },
  {
   "cell_type": "code",
   "execution_count": 156,
   "id": "7fbb7709-f1ec-4029-882e-0f57c5ae70a2",
   "metadata": {},
   "outputs": [
    {
     "data": {
      "text/plain": [
       "array([-1.        +0.00000000e+00j, -0.80901699-1.58185236e-08j,\n",
       "       -0.80901699+1.58185236e-08j, -0.309017  +0.00000000e+00j,\n",
       "       -0.30901699+0.00000000e+00j,  0.30901699+0.00000000e+00j,\n",
       "        0.309017  +0.00000000e+00j,  0.80901699-1.24714304e-08j,\n",
       "        0.80901699+1.24714304e-08j,  1.        +0.00000000e+00j])"
      ]
     },
     "execution_count": 156,
     "metadata": {},
     "output_type": "execute_result"
    }
   ],
   "source": [
    "(1-np.polynomial.Polynomial(P)**2).roots()"
   ]
  },
  {
   "cell_type": "code",
   "execution_count": 157,
   "id": "34666266-8b73-4c6a-ab53-238ffcdbb953",
   "metadata": {},
   "outputs": [
    {
     "data": {
      "text/latex": [
       "$x \\mapsto \\color{LightGray}{\\text{0.0}} + \\text{5.0}\\,x\\color{LightGray}{ + \\text{0.0}\\,x^{2}} - \\text{20.0}\\,x^{3}\\color{LightGray}{ + \\text{0.0}\\,x^{4}} + \\text{16.0}\\,x^{5}$"
      ],
      "text/plain": [
       "Polynomial([  0.,   5.,   0., -20.,   0.,  16.], domain=[-1,  1], window=[-1,  1], symbol='x')"
      ]
     },
     "execution_count": 157,
     "metadata": {},
     "output_type": "execute_result"
    }
   ],
   "source": [
    "np.polynomial.Polynomial(P)"
   ]
  },
  {
   "cell_type": "code",
   "execution_count": 160,
   "id": "1507de0c-f459-4d94-91b5-8a08794d6908",
   "metadata": {},
   "outputs": [],
   "source": [
    "from sympy.abc import x\n",
    "from functools import reduce\n",
    "poly =  reduce(lambda x,y: x+y,[v*x**i for i,v in enumerate(P)])"
   ]
  },
  {
   "cell_type": "code",
   "execution_count": 165,
   "id": "0f82c629-4f9e-4ee7-8f90-2b85ee055c8d",
   "metadata": {},
   "outputs": [
    {
     "data": {
      "text/plain": [
       "[-0.999999999999999,\n",
       " -0.809017004088476,\n",
       " -0.809016984661420,\n",
       " -0.309016994502735,\n",
       " -0.309016994247160,\n",
       " 0.309016994247160,\n",
       " 0.309016994502735,\n",
       " 0.809016984661420,\n",
       " 0.809017004088476,\n",
       " 0.999999999999999]"
      ]
     },
     "execution_count": 165,
     "metadata": {},
     "output_type": "execute_result"
    }
   ],
   "source": [
    "nroots(1-poly**2)"
   ]
  },
  {
   "cell_type": "code",
   "execution_count": 164,
   "id": "24607680-776f-4a34-be3c-2a3f3382bf09",
   "metadata": {},
   "outputs": [],
   "source": [
    "from sympy import nroots"
   ]
  },
  {
   "cell_type": "code",
   "execution_count": 1,
   "id": "d21f583e-2c1c-420c-903f-cc8314a5703e",
   "metadata": {},
   "outputs": [],
   "source": [
    "def to_poly(P):\n",
    "    return reduce(lambda x,y: x+y, [v*x**i for i,v in enumerate(np.array(P),dtype='complex128')])"
   ]
  },
  {
   "cell_type": "code",
   "execution_count": 2,
   "id": "e5f1f38a-1039-420c-a704-97bf7b1908fd",
   "metadata": {},
   "outputs": [
    {
     "ename": "NameError",
     "evalue": "name 'reduce' is not defined",
     "output_type": "error",
     "traceback": [
      "\u001b[1;31m---------------------------------------------------------------------------\u001b[0m",
      "\u001b[1;31mNameError\u001b[0m                                 Traceback (most recent call last)",
      "Cell \u001b[1;32mIn[2], line 1\u001b[0m\n\u001b[1;32m----> 1\u001b[0m to_poly([\u001b[38;5;241m1\u001b[39m,\u001b[38;5;241m2\u001b[39m,\u001b[38;5;241m3\u001b[39m])\n",
      "Cell \u001b[1;32mIn[1], line 2\u001b[0m, in \u001b[0;36mto_poly\u001b[1;34m(P)\u001b[0m\n\u001b[0;32m      1\u001b[0m \u001b[38;5;28;01mdef\u001b[39;00m \u001b[38;5;21mto_poly\u001b[39m(P):\n\u001b[1;32m----> 2\u001b[0m     \u001b[38;5;28;01mreturn\u001b[39;00m reduce(\u001b[38;5;28;01mlambda\u001b[39;00m x,y: x\u001b[38;5;241m+\u001b[39my, [v\u001b[38;5;241m*\u001b[39mx\u001b[38;5;241m*\u001b[39m\u001b[38;5;241m*\u001b[39mi \u001b[38;5;28;01mfor\u001b[39;00m i,v \u001b[38;5;129;01min\u001b[39;00m \u001b[38;5;28menumerate\u001b[39m(np\u001b[38;5;241m.\u001b[39marray(P),dtype\u001b[38;5;241m=\u001b[39m\u001b[38;5;124m'\u001b[39m\u001b[38;5;124mcomplex128\u001b[39m\u001b[38;5;124m'\u001b[39m)])\n",
      "\u001b[1;31mNameError\u001b[0m: name 'reduce' is not defined"
     ]
    }
   ],
   "source": [
    "to_poly([1,2,3])"
   ]
  },
  {
   "cell_type": "code",
   "execution_count": null,
   "id": "ec62e9b9-ffb0-4e99-b218-562822064389",
   "metadata": {},
   "outputs": [],
   "source": []
  }
 ],
 "metadata": {
  "kernelspec": {
   "display_name": "Python 3 (ipykernel)",
   "language": "python",
   "name": "python3"
  },
  "language_info": {
   "codemirror_mode": {
    "name": "ipython",
    "version": 3
   },
   "file_extension": ".py",
   "mimetype": "text/x-python",
   "name": "python",
   "nbconvert_exporter": "python",
   "pygments_lexer": "ipython3",
   "version": "3.11.5"
  }
 },
 "nbformat": 4,
 "nbformat_minor": 5
}
