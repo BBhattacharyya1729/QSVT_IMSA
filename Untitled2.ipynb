{
 "cells": [
  {
   "cell_type": "code",
   "execution_count": 21,
   "id": "44c8f9e8-d95c-4a73-b6a2-98fa5f172f52",
   "metadata": {},
   "outputs": [],
   "source": [
    "import qiskit\n",
    "from qiskit import QuantumCircuit\n",
    "from qiskit.quantum_info import Operator,Statevector\n",
    "import numpy as np"
   ]
  },
  {
   "cell_type": "code",
   "execution_count": 49,
   "id": "d2cc2fa7-0bab-4653-9c6d-648e58cf6c23",
   "metadata": {},
   "outputs": [],
   "source": [
    "def get_projector(rank,n_qubits):\n",
    "    Pi = np.diag([1] * rank + [0] * (2**n_qubits-rank))\n",
    "    C_Pi = np.kron(np.array([[0,1],[1,0]]),Pi)+np.kron(np.eye(2),np.eye(2**n_qubits)-Pi)\n",
    "    qc=QuantumCircuit(n_qubits+1)\n",
    "    qc.unitary(Operator(C_Pi),range(n_qubits+1)[::-1])\n",
    "    return qc.to_gate()"
   ]
  },
  {
   "cell_type": "code",
   "execution_count": 50,
   "id": "62d718ed-1e18-425e-bbee-e755916f95d0",
   "metadata": {},
   "outputs": [
    {
     "name": "stdout",
     "output_type": "stream",
     "text": [
      "0000 0j\n",
      "0001 0j\n",
      "0010 0j\n",
      "0011 (1+0j)\n",
      "0100 (1+0j)\n",
      "0101 (1+0j)\n",
      "0110 (1+0j)\n",
      "0111 (1+0j)\n",
      "1000 0j\n",
      "1001 0j\n",
      "1010 0j\n",
      "1011 (1+0j)\n",
      "1100 (1+0j)\n",
      "1101 (1+0j)\n",
      "1110 (1+0j)\n",
      "1111 (1+0j)\n"
     ]
    }
   ],
   "source": [
    "qc = \n",
    "    "
   ]
  },
  {
   "cell_type": "code",
   "execution_count": 52,
   "id": "a0e934bd-234c-4f7d-92c3-fe3a90741beb",
   "metadata": {},
   "outputs": [
    {
     "data": {
      "text/plain": [
       "array([[ 0,  1,  2,  3,  4,  5,  6,  7],\n",
       "       [ 8,  9, 10, 11, 12, 13, 14, 15],\n",
       "       [16, 17, 18, 19, 20, 21, 22, 23],\n",
       "       [24, 25, 26, 27, 28, 29, 30, 31],\n",
       "       [32, 33, 34, 35, 36, 37, 38, 39],\n",
       "       [40, 41, 42, 43, 44, 45, 46, 47],\n",
       "       [48, 49, 50, 51, 52, 53, 54, 55],\n",
       "       [56, 57, 58, 59, 60, 61, 62, 63]])"
      ]
     },
     "execution_count": 52,
     "metadata": {},
     "output_type": "execute_result"
    }
   ],
   "source": [
    "np.arange(0,64).reshape((8,8))"
   ]
  },
  {
   "cell_type": "code",
   "execution_count": 53,
   "id": "289251a3-0a27-460d-b6ef-88095c003b2a",
   "metadata": {},
   "outputs": [],
   "source": [
    "P = np.diag([1,1,0,0])"
   ]
  },
  {
   "cell_type": "code",
   "execution_count": 54,
   "id": "d5d2c4f5-a81b-4825-a329-8a47215992c4",
   "metadata": {},
   "outputs": [
    {
     "data": {
      "text/plain": [
       "array([[0, 1, 0, 0, 0, 0, 0, 0],\n",
       "       [8, 9, 0, 0, 0, 0, 0, 0],\n",
       "       [0, 0, 0, 0, 0, 0, 0, 0],\n",
       "       [0, 0, 0, 0, 0, 0, 0, 0],\n",
       "       [0, 0, 0, 0, 0, 0, 0, 0],\n",
       "       [0, 0, 0, 0, 0, 0, 0, 0],\n",
       "       [0, 0, 0, 0, 0, 0, 0, 0],\n",
       "       [0, 0, 0, 0, 0, 0, 0, 0]])"
      ]
     },
     "execution_count": 54,
     "metadata": {},
     "output_type": "execute_result"
    }
   ],
   "source": [
    "np.kron(np.diag([1,0]),P)@np.arange(0,64).reshape((8,8))@np.kron(np.diag([1,0]),P)"
   ]
  },
  {
   "cell_type": "code",
   "execution_count": null,
   "id": "c69caed2-1a3c-43de-83ea-8496202eff6a",
   "metadata": {},
   "outputs": [],
   "source": []
  }
 ],
 "metadata": {
  "kernelspec": {
   "display_name": "Python 3 (ipykernel)",
   "language": "python",
   "name": "python3"
  },
  "language_info": {
   "codemirror_mode": {
    "name": "ipython",
    "version": 3
   },
   "file_extension": ".py",
   "mimetype": "text/x-python",
   "name": "python",
   "nbconvert_exporter": "python",
   "pygments_lexer": "ipython3",
   "version": "3.11.5"
  }
 },
 "nbformat": 4,
 "nbformat_minor": 5
}
