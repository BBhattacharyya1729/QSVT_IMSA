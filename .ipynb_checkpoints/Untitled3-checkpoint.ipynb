{
 "cells": [
  {
   "cell_type": "code",
   "execution_count": 2,
   "id": "8ef4d8f2-07ce-42ce-8318-9081f9c9104e",
   "metadata": {},
   "outputs": [
    {
     "name": "stdout",
     "output_type": "stream",
     "text": [
      "N: 16\n",
      "Time: 1.120847225189209\n",
      "Final: 1.5450256629634396e-09\n",
      "# Iterations: 165\n",
      "-----------------------------------------------------\n",
      "[1.120847225189209]\n",
      "[1.5450256629634396e-09]\n",
      "[165]\n"
     ]
    }
   ],
   "source": [
    "import torch\n",
    "from torch.nn.functional import conv1d, pad\n",
    "from torch.fft import fft\n",
    "from torchaudio.transforms import Convolve, FFTConvolve\n",
    "import time\n",
    "import numpy as np\n",
    "\n",
    "# Use CUDA if available\n",
    "# device = torch.device(\"cuda\" if torch.cuda.is_available() else \"cpu\")\n",
    "device = \"cpu\"\n",
    "def objective_torch(x, P):\n",
    "    x.requires_grad = True\n",
    "\n",
    "    real_part = x[:len(x) // 2]\n",
    "    imag_part = x[len(x) // 2:]\n",
    "\n",
    "    real_flip = torch.flip(real_part, dims=[0])\n",
    "    imag_flip = torch.flip(-1*imag_part, dims=[0])\n",
    "\n",
    "    conv_real_part = FFTConvolve(\"full\").forward(real_part, real_flip)\n",
    "    conv_imag_part = FFTConvolve(\"full\").forward(imag_part, imag_flip)\n",
    "\n",
    "    conv_real_imag = FFTConvolve(\"full\").forward(real_part, imag_flip)\n",
    "    conv_imag_real = FFTConvolve(\"full\").forward(imag_part, real_flip)\n",
    "\n",
    "    # Compute real and imaginary part of the convolution\n",
    "    real_conv = conv_real_part - conv_imag_part\n",
    "    imag_conv = conv_real_imag + conv_imag_real\n",
    "\n",
    "    # Combine to form the complex result\n",
    "    conv_result = torch.complex(real_conv, imag_conv)\n",
    "\n",
    "    # Compute loss using squared distance function\n",
    "    loss = torch.norm(P - conv_result)**2\n",
    "    return loss\n",
    "\n",
    "def complex_conv_by_flip_conj(x):\n",
    "    real_part = x.real\n",
    "    imag_part = x.imag\n",
    "\n",
    "    real_flip = torch.flip(real_part, dims=[0])\n",
    "    imag_flip = torch.flip(-1*imag_part, dims=[0])\n",
    "\n",
    "    conv_real_part = FFTConvolve(\"full\").forward(real_part, real_flip)\n",
    "    conv_imag_part = FFTConvolve(\"full\").forward(imag_part, imag_flip)\n",
    "\n",
    "    conv_real_imag = FFTConvolve(\"full\").forward(real_part, imag_flip)\n",
    "    conv_imag_real = FFTConvolve(\"full\").forward(imag_part, real_flip)\n",
    "\n",
    "    # Compute real and imaginary part of the convolution\n",
    "    real_conv = conv_real_part - conv_imag_part\n",
    "    imag_conv = conv_real_imag + conv_imag_real\n",
    "\n",
    "    # Combine to form the complex result\n",
    "    return torch.complex(real_conv, imag_conv)\n",
    "\n",
    "def get_GSPQ(P,verbose=False):\n",
    "    poly = torch.tensor(P[::-1],dtype=torch.complex)\n",
    "    conv_p_negative = complex_conv_by_flip_conj(poly)*-1\n",
    "    conv_p_negative[poly.shape[0] - 1] = 1 - torch.norm(poly) ** 2\n",
    "\n",
    "    # Initializing Q randomly to start with\n",
    "    initial = torch.randn(poly.shape[0]*2, device=device, requires_grad=True)\n",
    "    initial = (initial / torch.norm(initial)).clone().detach().requires_grad_(True)\n",
    "\n",
    "    optimizer = torch.optim.LBFGS([initial], max_iter=1000)\n",
    "    t0 = time.time()\n",
    "\n",
    "    def closure():\n",
    "        optimizer.zero_grad()\n",
    "        loss = objective_torch(initial, conv_p_negative)\n",
    "        loss.backward()\n",
    "        return loss\n",
    "\n",
    "    optimizer.step(closure)\n",
    "\n",
    "    t1 = time.time()\n",
    "    if(verbose):\n",
    "        print(f'Time: {total}')\n",
    "        print(f'Final: {closure().item()}')\n",
    "        print(f\"# Iterations: {optimizer.state[optimizer._params[0]]['n_iter']}\")\n",
    "    return (initial[:16]+1j*initial[16:]).detach().numpy()[::-1]\n"
   ]
  },
  {
   "cell_type": "code",
   "execution_count": 403,
   "id": "856a5fc4-3020-4bcf-84bf-6a32fcac0c0f",
   "metadata": {},
   "outputs": [
    {
     "data": {
      "text/plain": [
       "4"
      ]
     },
     "execution_count": 403,
     "metadata": {},
     "output_type": "execute_result"
    }
   ],
   "source": [
    "k"
   ]
  },
  {
   "cell_type": "code",
   "execution_count": 413,
   "id": "186830d0-a9c1-405d-a839-c1d14a54d174",
   "metadata": {},
   "outputs": [
    {
     "data": {
      "text/plain": [
       "tensor(5.3413e-10, grad_fn=<PowBackward0>)"
      ]
     },
     "execution_count": 413,
     "metadata": {},
     "output_type": "execute_result"
    }
   ],
   "source": [
    "N = 2 ** k\n",
    "poly = torch.randn(N, device=device) + 1.j * torch.randn(N, device=device)\n",
    "\n",
    "granularity = 2 ** 25\n",
    "P = pad(poly, (0, granularity - poly.shape[0]))\n",
    "ft = fft(P)\n",
    "\n",
    "# Normalize P\n",
    "P_norms = ft.abs()\n",
    "poly /= torch.max(P_norms)\n",
    "\n",
    "conv_p_negative = complex_conv_by_flip_conj(poly)*-1\n",
    "conv_p_negative[poly.shape[0] - 1] = 1 - torch.norm(poly) ** 2\n",
    "\n",
    "# Initializing Q randomly to start with\n",
    "initial = torch.randn(poly.shape[0]*2, device=device, requires_grad=True)\n",
    "initial = (initial / torch.norm(initial)).clone().detach().requires_grad_(True)\n",
    "\n",
    "optimizer = torch.optim.LBFGS([initial], max_iter=1000)\n",
    "\n",
    "t0 = time.time()\n",
    "\n",
    "def closure():\n",
    "    optimizer.zero_grad()\n",
    "    loss = objective_torch(initial, conv_p_negative)\n",
    "    loss.backward()\n",
    "    return loss\n",
    "\n",
    "optimizer.step(closure)\n",
    "closure()"
   ]
  },
  {
   "cell_type": "code",
   "execution_count": 414,
   "id": "dc24d63e-cc75-4539-84d1-e29c01e79fe1",
   "metadata": {},
   "outputs": [
    {
     "data": {
      "text/plain": [
       "tensor([-0.0492-0.0239j, -0.0236+0.1177j,  0.0218-0.0223j,  0.0433-0.0426j,\n",
       "        -0.1631+0.1209j,  0.1385-0.0965j, -0.1705+0.3909j,  0.0204-0.0093j,\n",
       "        -0.1936-0.0009j, -0.3027-0.2173j, -0.2450-0.1829j,  0.1274+0.1323j,\n",
       "        -0.0439+0.1287j, -0.1916+0.0152j,  0.1139+0.1453j,  0.1828+0.0514j],\n",
       "       grad_fn=<AddBackward0>)"
      ]
     },
     "execution_count": 414,
     "metadata": {},
     "output_type": "execute_result"
    }
   ],
   "source": [
    "Q = \n",
    "Q"
   ]
  },
  {
   "cell_type": "code",
   "execution_count": 415,
   "id": "aed9abbf-8b14-49b6-92de-f5517e936260",
   "metadata": {},
   "outputs": [],
   "source": [
    "Q = np.polynomial.Polynomial(Q.detach().numpy()[::-1])"
   ]
  },
  {
   "cell_type": "code",
   "execution_count": 416,
   "id": "a44d77bd-782e-4b89-8f1d-e1e8b7b223b0",
   "metadata": {},
   "outputs": [],
   "source": [
    "P=np.polynomial.Polynomial(poly.detach().numpy()[::-1])"
   ]
  },
  {
   "cell_type": "code",
   "execution_count": 419,
   "id": "10faca6e-ba4b-4220-9ab8-74004a23fdf8",
   "metadata": {},
   "outputs": [
    {
     "name": "stdout",
     "output_type": "stream",
     "text": [
      "0.9999955772228358\n",
      "0.9999682867204798\n",
      "0.9999684369446307\n",
      "0.9999722998909151\n",
      "0.9999815045607916\n",
      "0.9999686302118642\n",
      "0.9999897170299679\n",
      "0.9999755327522641\n",
      "0.9999855059150181\n",
      "0.9999978283446266\n",
      "0.9999908328971229\n",
      "0.9999676419656502\n",
      "0.99996950506707\n",
      "0.9999710907568741\n",
      "0.9999718141248832\n",
      "0.9999970995586938\n",
      "0.999991891036356\n",
      "0.9999794084265592\n",
      "0.9999807935105329\n",
      "0.9999699393203454\n",
      "0.9999754564684713\n",
      "0.999990034449949\n",
      "0.9999928970531704\n",
      "0.9999945159653233\n",
      "0.9999835952325393\n",
      "0.9999955870191884\n",
      "0.9999684240281781\n",
      "0.999979353943161\n",
      "0.9999899999342093\n",
      "0.9999919084734374\n",
      "0.9999673469117633\n",
      "0.9999951666317209\n",
      "0.9999761563111518\n",
      "0.9999878172282723\n",
      "0.999989181679931\n",
      "0.9999783950483849\n",
      "0.9999701830174629\n",
      "0.9999795329124054\n",
      "0.9999877489791846\n",
      "0.9999969834204125\n",
      "0.9999796033372523\n",
      "0.9999865878074915\n",
      "0.9999775156441422\n",
      "0.9999887980946862\n",
      "0.9999974875851296\n",
      "0.9999699553255904\n",
      "0.9999913828624271\n",
      "0.9999767226649932\n",
      "0.999996474080125\n",
      "0.9999926541177097\n",
      "0.9999799999515773\n",
      "0.9999836563670502\n",
      "0.9999781664310339\n",
      "0.999969963846171\n",
      "0.99997947967495\n",
      "0.9999677070680312\n",
      "0.9999945346779429\n",
      "0.9999731309449156\n",
      "0.9999684394614536\n",
      "0.9999686797719293\n",
      "0.9999833031872496\n",
      "0.9999886749331697\n",
      "0.9999955454650166\n",
      "0.999997996692059\n",
      "0.9999947857998035\n",
      "0.9999793451243254\n",
      "0.9999887228850829\n",
      "0.9999839252164417\n",
      "0.9999739600496803\n",
      "0.9999676709448567\n",
      "0.9999722289747153\n",
      "0.9999843236588586\n",
      "0.999989364867201\n",
      "0.9999683616629804\n",
      "0.9999751481230139\n",
      "0.999980120515914\n",
      "0.9999824268947618\n",
      "0.9999936823290974\n",
      "0.9999979685214866\n",
      "0.9999695233050999\n",
      "0.9999795996071579\n",
      "0.9999841651804938\n",
      "0.9999875832546621\n",
      "0.9999861278699608\n",
      "0.9999953244198108\n",
      "0.9999818255038171\n",
      "0.9999970962875764\n",
      "0.9999857607234215\n",
      "0.9999740293439041\n",
      "0.9999793753665521\n",
      "0.9999866186881641\n",
      "0.9999808558541761\n",
      "0.9999684111998317\n",
      "0.9999697067941387\n",
      "0.999968485531495\n",
      "0.9999951620962865\n",
      "0.9999746840318295\n",
      "0.9999847201428026\n",
      "0.9999793558251041\n",
      "0.9999812919533737\n"
     ]
    }
   ],
   "source": []
  },
  {
   "cell_type": "code",
   "execution_count": 133,
   "id": "9af54b75-cddf-48df-859b-45b727ae353d",
   "metadata": {},
   "outputs": [],
   "source": [
    "N=16\n",
    "poly = torch.randn(N, device=device) + 1.j * torch.randn(N, device=device)\n",
    "\n",
    "import matplotlib.pyplot as plt"
   ]
  },
  {
   "cell_type": "code",
   "execution_count": 134,
   "id": "26c1f315-ac83-44e1-8e8f-9ebeeead6133",
   "metadata": {},
   "outputs": [
    {
     "data": {
      "text/plain": [
       "[<matplotlib.lines.Line2D at 0x225cd211610>]"
      ]
     },
     "execution_count": 134,
     "metadata": {},
     "output_type": "execute_result"
    },
    {
     "data": {
      "image/png": "[encoded data removed]",
      "text/plain": [
       "<Figure size 640x480 with 1 Axes>"
      ]
     },
     "metadata": {},
     "output_type": "display_data"
    }
   ],
   "source": [
    "plt.plot(ft.detach().numpy().real)\n",
    "plt.plot(ft.detach().numpy().imag)"
   ]
  },
  {
   "cell_type": "code",
   "execution_count": 136,
   "id": "f500a883-2523-4fd4-9800-7af35faa33ef",
   "metadata": {},
   "outputs": [
    {
     "data": {
      "text/plain": [
       "tensor([1, 2, 3])"
      ]
     },
     "execution_count": 136,
     "metadata": {},
     "output_type": "execute_result"
    }
   ],
   "source": [
    "x=torch.tensor([1,2,3])\n",
    "x"
   ]
  },
  {
   "cell_type": "code",
   "execution_count": 141,
   "id": "eda72252-6be8-42ea-8a0b-b686b95c2a43",
   "metadata": {},
   "outputs": [
    {
     "name": "stderr",
     "output_type": "stream",
     "text": [
      "C:\\Users\\Bikrant\\AppData\\Local\\Temp\\ipykernel_10356\\3566119514.py:1: UserWarning: To copy construct from a tensor, it is recommended to use sourceTensor.clone().detach() or sourceTensor.clone().detach().requires_grad_(True), rather than torch.tensor(sourceTensor).\n",
      "  complex_conv_by_flip_conj(torch.tensor(x,dtype=torch.complex128))\n"
     ]
    },
    {
     "data": {
      "text/plain": [
       "tensor([ 3.0000+0.j,  8.0000+0.j, 14.0000+0.j,  8.0000+0.j,  3.0000+0.j],\n",
       "       dtype=torch.complex128)"
      ]
     },
     "execution_count": 141,
     "metadata": {},
     "output_type": "execute_result"
    }
   ],
   "source": [
    "complex_conv_by_flip_conj(torch.tensor(x,dtype=torch.complex128))"
   ]
  },
  {
   "cell_type": "code",
   "execution_count": 381,
   "id": "2faa8058-5308-4028-8ee1-e189ac3dcb3a",
   "metadata": {},
   "outputs": [
    {
     "data": {
      "text/plain": [
       "tensor(1.8094, dtype=torch.float64, grad_fn=<PowBackward0>)"
      ]
     },
     "execution_count": 381,
     "metadata": {},
     "output_type": "execute_result"
    }
   ],
   "source": [
    "N = 5\n",
    "P= torch.randn(N, device=device) + 1.j * torch.randn(N, device=device)\n",
    "P/=np.max(abs(np.polynomial.Polynomial(P)(np.linspace(-1,1,1000))))\n",
    "p_conv = complex_conv_by_flip_conj(P)\n",
    "delta = torch.zeros(2*N-1,dtype=torch.complex128)\n",
    "delta[N-1]=1\n",
    "\n",
    "def cost(Q_iso):\n",
    "    N=len(Q_iso)//2\n",
    "    Q = Q_iso[:N] + 1j * Q_iso[N:]\n",
    "    q_conv = complex_conv_by_flip_conj(Q)\n",
    "    return torch.norm(q_conv+p_conv-delta)**2\n",
    "\n",
    "initial = torch.randn(2*N, device=device, requires_grad=True)\n",
    "initial = (initial / torch.norm(initial)).clone().detach().requires_grad_(True)\n",
    "/\n",
    "optimizer = torch.optim.LBFGS([initial], max_iter=np.inf,max_eval=np.inf)\n",
    "def closure():\n",
    "    optimizer.zero_grad()\n",
    "    loss = cost(initial)\n",
    "    loss.backward()\n",
    "    return loss\n",
    "optimizer.step(closure)"
   ]
  },
  {
   "cell_type": "code",
   "execution_count": 382,
   "id": "965356c6-d7e9-45f2-998a-33ae5319aed8",
   "metadata": {},
   "outputs": [
    {
     "data": {
      "text/plain": [
       "tensor(0.0330, dtype=torch.float64, grad_fn=<PowBackward0>)"
      ]
     },
     "execution_count": 382,
     "metadata": {},
     "output_type": "execute_result"
    }
   ],
   "source": [
    "closure()"
   ]
  },
  {
   "cell_type": "code",
   "execution_count": 383,
   "id": "ed59a920-bd70-46a2-ae04-a4b15031ef44",
   "metadata": {},
   "outputs": [
    {
     "data": {
      "text/plain": [
       "tensor(0.0330, dtype=torch.float64, grad_fn=<PowBackward0>)"
      ]
     },
     "execution_count": 383,
     "metadata": {},
     "output_type": "execute_result"
    }
   ],
   "source": [
    "cost(initial)"
   ]
  },
  {
   "cell_type": "code",
   "execution_count": 384,
   "id": "e8e5d631-ea0c-4d45-b097-19f3e2e5be47",
   "metadata": {},
   "outputs": [
    {
     "data": {
      "text/plain": [
       "tensor([ 0.0021-7.1826e-02j, -0.0624-5.3527e-03j, -0.0245+3.0600e-02j,\n",
       "         0.0059+5.6452e-02j,  1.0728-1.6764e-08j,  0.0059-5.6452e-02j,\n",
       "        -0.0245-3.0600e-02j, -0.0624+5.3527e-03j,  0.0021+7.1826e-02j],\n",
       "       grad_fn=<AddBackward0>)"
      ]
     },
     "execution_count": 384,
     "metadata": {},
     "output_type": "execute_result"
    }
   ],
   "source": [
    "Q = (initial[:N] + 1j * initial[N:])\n",
    "complex_conv_by_flip_conj(P)+complex_conv_by_flip_conj(Q)\n"
   ]
  },
  {
   "cell_type": "code",
   "execution_count": 385,
   "id": "beb1a169-ce0e-4e13-9b48-45b97e6bf3eb",
   "metadata": {},
   "outputs": [
    {
     "data": {
      "text/plain": [
       "(0.9148768410086632-3.725290298461914e-09j)"
      ]
     },
     "execution_count": 385,
     "metadata": {},
     "output_type": "execute_result"
    }
   ],
   "source": [
    "Q=Q.detach().numpy()[::-1]\n",
    "P=P.detach().numpy()[::-1]\n",
    "sum= np.polynomial.Polynomial(Q)*np.polynomial.Polynomial(Q.conjugate())+np.polynomial.Polynomial(P)*np.polynomial.Polynomial(P.conjugate())\n",
    "sum(1)"
   ]
  },
  {
   "cell_type": "code",
   "execution_count": null,
   "id": "4705a0e1-5f38-4520-bfb5-6da2c7cf9cd7",
   "metadata": {},
   "outputs": [],
   "source": []
  }
 ],
 "metadata": {
  "kernelspec": {
   "display_name": "Python 3 (ipykernel)",
   "language": "python",
   "name": "python3"
  },
  "language_info": {
   "codemirror_mode": {
    "name": "ipython",
    "version": 3
   },
   "file_extension": ".py",
   "mimetype": "text/x-python",
   "name": "python",
   "nbconvert_exporter": "python",
   "pygments_lexer": "ipython3",
   "version": "3.11.5"
  }
 },
 "nbformat": 4,
 "nbformat_minor": 5
}
