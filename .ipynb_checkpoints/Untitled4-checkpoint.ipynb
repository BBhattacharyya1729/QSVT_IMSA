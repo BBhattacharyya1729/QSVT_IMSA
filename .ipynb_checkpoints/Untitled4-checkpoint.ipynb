{
 "cells": [
  {
   "cell_type": "code",
   "execution_count": 1,
   "id": "236825fa-c154-43c2-9fbc-19c7f4209132",
   "metadata": {},
   "outputs": [],
   "source": [
    "import numpy as np"
   ]
  },
  {
   "cell_type": "code",
   "execution_count": 91,
   "id": "4fdeac61-6aa8-44ec-94ee-f1644639b33c",
   "metadata": {},
   "outputs": [],
   "source": [
    "###Construct Unitary with psi as first column\n",
    "def state_prep(psi):\n",
    "    idx = np.argwhere(abs(psi)>0)[0][0]\n",
    "    l = [idx]+[i for i in range(len(psi)) if i!= idx]\n",
    "    U = np.eye(len(psi),dtype='complex128')[l].T\n",
    "    U[:,0]=psi\n",
    "    U=np.array(np.linalg.qr(U)[0]) \n",
    "    return U * psi[idx]/U[:,0][idx]\n",
    "\n",
    "Z = np.array([[1,0],[0,-1]],dtype='complex128')\n",
    "S = np.array([[1,0],[0,1j]],dtype='complex128')\n",
    "H = np.array([[1,1],[1,-1]],dtype='complex128')/np.sqrt(2)\n",
    "###Indexed Operators\n",
    "def Z_n(n):\n",
    "    return np.kron(np.kron(np.eye(2**n),Z),np.eye(2**n))\n",
    "\n",
    "def H_n(n):\n",
    "    return np.kron(np.kron(np.eye(2**n),H),np.eye(2**n))\n",
    "\n",
    "def S_n(n):\n",
    "    return np.kron(np.kron(np.eye(2**n),S),np.eye(2**n))\n",
    "\n",
    "def U_c(U):\n",
    "    return np.kron(np.kron(U,np.array([[1,0],[0,0]]))+np.kron(np.eye(len(U)),np.array([[0,0],[0,1]])),np.eye(len(U)))\n",
    "\n",
    "def R(n):\n",
    "  return np.kron(np.array(np.diag([-1]+[1]*(2**(n+1)-1)),dtype='complex128'),np.eye(2**n))\n",
    "\n",
    "def C(n):\n",
    "    N=2**n\n",
    "    op = np.kron(np.kron(np.eye(N),np.array([[1,0],[0,0]])),np.eye(N))\n",
    "    for j in range(N):\n",
    "        for k in range(N):\n",
    "            v,vj,vk = np.zeros(N),np.zeros(N),np.zeros(N)\n",
    "            v[j^k] = 1\n",
    "            vj[j]=1\n",
    "            vk[k]=1\n",
    "            op += np.kron(np.kron(np.outer(v,vj),np.array([[0,0],[0,1]])),np.outer(vk,vk))\n",
    "    return op    \n",
    "\n",
    "def W_p(p,U):\n",
    "    n=int(np.log2(len(U)))\n",
    "    return H_n(n) @ np.linalg.matrix_power(S_n(n),p) @ C(n) @ U_c(U) @ H_n(n)\n",
    "\n",
    "def G_p(W):\n",
    "    n=(int(np.log2(len(W)))-1)//2\n",
    "    return W @ R(n) @ W.T.conjugate() @ Z_n(n)\n",
    "\n",
    "# def R(n):\n",
    "#   return np.array(np.diag([-1]+[1]*(2**(2*n+1)-1)),dtype='complex128')  \n",
    "\n",
    "# def U_c(U):\n",
    "#     return np.kron(np.kron(U,np.array([[1,0],[0,0]]))+np.kron(np.eye(len(U)),np.array([[0,0],[0,1]])),np.eye(len(U)))\n",
    "\n",
    "# def C(n):\n",
    "#     N=2**n\n",
    "#     op = np.kron(np.kron(np.eye(N),np.array([[1,0],[0,0]])),np.eye(N))\n",
    "#     for j in range(N):\n",
    "#         for k in range(N):\n",
    "#             v,vj,vk = np.zeros(N),np.zeros(N),np.zeros(N)\n",
    "#             v[j^k] = 1\n",
    "#             vj[j]=1\n",
    "#             vk[k]=1\n",
    "#             op += np.kron(np.kron(np.outer(v,vj),np.array([[0,0],[0,1]])),np.outer(vk,vk))\n",
    "#     return op    \n",
    "\n",
    "\n",
    "\n",
    "def U_p(p,psi):\n",
    "    U=state_prep(psi)\n",
    "    n=int(np.log2(len(U)))\n",
    "    X = np.array([[0,1],[1,0]])\n",
    "    H = 1/np.sqrt(2) * np.array([[1,1],[1,-1]])\n",
    "    Z = np.array([[1,0],[0,-1]])\n",
    "    W = W_p(p,U)\n",
    "    G = G_p(W)\n",
    "\n",
    "    return np.kron(X @ Z @ X, np.eye(2**(2*n+1))) @ np.kron(H,W.conjugate().T) @ (np.kron(np.array([[1,0],[0,0]]),G)+np.kron(np.array([[0,0],[0,1]]),G.T.conjugate())) @ np.kron(H,W)\n",
    "    \n",
    "    "
   ]
  },
  {
   "cell_type": "code",
   "execution_count": 104,
   "id": "5b81d3b4-4e6f-4cd7-abde-7a4b1a0bca4d",
   "metadata": {},
   "outputs": [],
   "source": [
    "n = 5\n",
    "v0 = np.zeros(2**n)\n",
    "v0[0]=1\n",
    "\n",
    "psi = np.random.random(2**n)+1j * np.random.random(2**n)\n",
    "psi = psi/np.linalg.norm(psi)\n",
    "U = state_prep(psi)\n",
    "p=0\n",
    "W=W_p(p,U)"
   ]
  },
  {
   "cell_type": "code",
   "execution_count": 105,
   "id": "0df6e666-4a74-463f-974d-695815ffe60f",
   "metadata": {},
   "outputs": [
    {
     "name": "stdout",
     "output_type": "stream",
     "text": [
      "(0.0019025352075145857+1.734723475976807e-18j)\n",
      "(-0.13221253545592332-1.929879867024198e-17j)\n",
      "(0.0426430544565302-8.673617379884035e-18j)\n",
      "(0.08962548458663704-3.469446951953614e-18j)\n",
      "(-0.09378118286296541+7.26415455565288e-18j)\n",
      "(0.04273469506512731-5.204170427930421e-18j)\n",
      "(-0.004070658275722075-4.336808689942018e-19j)\n",
      "(-0.12605791590260096-4.336808689942018e-18j)\n",
      "(0.07311026884245445-1.3877787807814457e-17j)\n",
      "(-0.09550194431682366-2.6020852139652106e-18j)\n",
      "(0.07418446159508985-6.938893903907228e-18j)\n",
      "(0.05144314966730565+3.469446951953614e-18j)\n",
      "(-0.163515843964946-8.673617379884035e-19j)\n",
      "(0.12190746344756054+6.938893903907228e-18j)\n",
      "(0.07641660374667278-6.938893903907228e-18j)\n",
      "(-0.14420718420531245-1.0408340855860843e-17j)\n",
      "(0.046408024757992605+3.469446951953614e-18j)\n",
      "(-0.1746289505991186-9.107298248878237e-18j)\n",
      "(0.05628884195082143+3.469446951953614e-18j)\n",
      "(-0.09173201720029531-2.6020852139652106e-18j)\n",
      "(-0.14645321336028927-8.673617379884035e-19j)\n",
      "(-0.11624447622500951+2.6020852139652106e-18j)\n",
      "(-0.04873629118249834-2.6020852139652106e-18j)\n",
      "(0.06589117313886544-1.0408340855860843e-17j)\n",
      "(-0.0018789137472096928+0j)\n",
      "(0.11713567732585542+3.469446951953614e-18j)\n",
      "(0.053056511725346506+3.469446951953614e-18j)\n",
      "(-0.1130669758135851-8.673617379884035e-19j)\n",
      "(0.011970539297531974+5.204170427930421e-18j)\n",
      "(0.04170756078367033-1.0408340855860843e-17j)\n",
      "(0.15284356339596275-1.734723475976807e-18j)\n",
      "(0.037356993811507595+1.734723475976807e-18j)\n"
     ]
    }
   ],
   "source": [
    "G = -1/2 * (G_p(W) + G_p(W).conjugate().T)\n",
    "for k in range(2**n):\n",
    "    vk = np.zeros(2**n)\n",
    "    vk[k]=1\n",
    "    v1 = W@np.kron(v0,np.kron([1,0],vk))\n",
    "    print(v1.conjugate().T.dot(G).dot(v1)-psi[k].imag)"
   ]
  },
  {
   "cell_type": "code",
   "execution_count": 106,
   "id": "2ddecddc-28b8-44a8-b026-31aab5da5697",
   "metadata": {},
   "outputs": [],
   "source": [
    "U_real = U_p(0,psi)\n",
    "U_imag = U_p(1,psi)"
   ]
  },
  {
   "cell_type": "code",
   "execution_count": 107,
   "id": "1b773d54-4d53-4d17-a155-9e52255bce39",
   "metadata": {},
   "outputs": [
    {
     "data": {
      "text/plain": [
       "3.5229698093583247e-16"
      ]
     },
     "execution_count": 107,
     "metadata": {},
     "output_type": "execute_result"
    }
   ],
   "source": [
    "np.linalg.norm(np.diag(psi.real)-U_real[:len(psi),:len(psi)])"
   ]
  },
  {
   "cell_type": "code",
   "execution_count": 108,
   "id": "4b1818ad-7278-4d8f-887c-20504ec6a67e",
   "metadata": {},
   "outputs": [
    {
     "data": {
      "text/plain": [
       "5.313066536410134e-16"
      ]
     },
     "execution_count": 108,
     "metadata": {},
     "output_type": "execute_result"
    }
   ],
   "source": [
    "np.linalg.norm(np.diag(psi.imag)-U_imag[:len(psi),:len(psi)])"
   ]
  },
  {
   "cell_type": "code",
   "execution_count": null,
   "id": "6988a5d9-0602-4c22-856f-8ccf4c35ce09",
   "metadata": {},
   "outputs": [],
   "source": [
    "p=0\n",
    "U=state_prep(psi)\n",
    "W=W_p(p,U)\n",
    "n = 2\n",
    "k=2\n",
    "vk=np.zeros(4)\n",
    "vk[k]=1\n",
    "(W @ np.kron(np.kron(v0,[1,0]),vk))"
   ]
  },
  {
   "cell_type": "code",
   "execution_count": null,
   "id": "86f94dbd-c5cc-4b66-af07-f1f269da1738",
   "metadata": {},
   "outputs": [],
   "source": [
    "0.5 * np.kron((np.kron((psi+1j**p*vk),[1,0])+np.kron((psi-1j**p*vk),[0,1])),vk)"
   ]
  },
  {
   "cell_type": "code",
   "execution_count": null,
   "id": "863b5b2a-2eea-46c6-b334-8f73fe225193",
   "metadata": {
    "scrolled": true
   },
   "outputs": [],
   "source": [
    "np.trace(W @ W.T.conjugate())"
   ]
  },
  {
   "cell_type": "code",
   "execution_count": null,
   "id": "041e6b5c-6bb7-460f-8b7b-67bd737055a1",
   "metadata": {},
   "outputs": [],
   "source": [
    " np.kron(np.kron(v0,[1,0]),vk)"
   ]
  },
  {
   "cell_type": "code",
   "execution_count": 138,
   "id": "9468166f-002e-481f-ab1e-edea7681e26e",
   "metadata": {},
   "outputs": [],
   "source": [
    "from qiskit import QuantumCircuit\n",
    "from qiskit.circuit.library import UnitaryGate,MCXGate\n",
    "from qiskit.quantum_info import Operator\n",
    "\n",
    "def state_prep_circ(psi):\n",
    "    n=int(np.log2(len(psi)))\n",
    "    U=state_prep(psi)\n",
    "    gate = UnitaryGate(U)\n",
    "    qc=QuantumCircuit(n)\n",
    "    qc.append(gate,range(n))\n",
    "    return qc.reverse_bits()\n",
    "\n",
    "def R_circ(n):\n",
    "    qc = QuantumCircuit(2*n+1)\n",
    "    qc.x(0)\n",
    "    qc.h(0)\n",
    "    qc.x(range(1,n+1))\n",
    "    qc.append(MCXGate(n), range(n+1)[::-1])\n",
    "    qc.x(range(1,n+1))\n",
    "    qc.h(0)\n",
    "    qc.x(0)\n",
    "    return qc\n",
    "\n",
    "def C_circ(n):\n",
    "    qc=QuantumCircuit(2*n+1)\n",
    "    for i in range(n):\n",
    "        qc.ccx(n,n+i+1,i)\n",
    "    return qc"
   ]
  },
  {
   "cell_type": "code",
   "execution_count": 136,
   "id": "d2d88fd1-7853-4861-a2fb-29a1d4d016a6",
   "metadata": {},
   "outputs": [
    {
     "data": {
      "text/plain": [
       "array([0.11964246+0.11773992j, 0.01862654+0.15083908j,\n",
       "       0.13031238+0.08766933j, 0.10849256+0.01886707j,\n",
       "       0.01033239+0.10411357j, 0.12149529+0.07876059j,\n",
       "       0.0416773 +0.04574796j, 0.05267155+0.17872946j,\n",
       "       0.13507845+0.06196818j, 0.04036008+0.13586203j,\n",
       "       0.10603515+0.03185069j, 0.21372579+0.16228264j,\n",
       "       0.03664952+0.20016536j, 0.2132858 +0.09137834j,\n",
       "       0.20762602+0.13120941j, 0.0660831 +0.21029028j,\n",
       "       0.20143538+0.15502736j, 0.02792855+0.2025575j ,\n",
       "       0.10469973+0.04841089j, 0.08090507+0.17263708j,\n",
       "       0.04391003+0.19036324j, 0.01051311+0.12675759j,\n",
       "       0.05322242+0.10195872j, 0.16472035+0.09882918j,\n",
       "       0.09577309+0.09765201j, 0.16711727+0.04998159j,\n",
       "       0.20008874+0.14703222j, 0.06896733+0.1820343j ,\n",
       "       0.06106516+0.04909462j, 0.19857002+0.15686246j,\n",
       "       0.17111892+0.01827536j, 0.04259762+0.00524063j])"
      ]
     },
     "execution_count": 136,
     "metadata": {},
     "output_type": "execute_result"
    }
   ],
   "source": [
    "Operator(state_prep_circ(psi).reverse_bits()).data[:,0]"
   ]
  },
  {
   "cell_type": "code",
   "execution_count": 131,
   "id": "2eee6135-1ade-4995-bd40-5b67be4060b4",
   "metadata": {},
   "outputs": [
    {
     "data": {
      "text/plain": [
       "<qiskit.circuit.quantumcircuit.QuantumCircuit at 0x228023620d0>"
      ]
     },
     "execution_count": 131,
     "metadata": {},
     "output_type": "execute_result"
    }
   ],
   "source": []
  },
  {
   "cell_type": "code",
   "execution_count": 146,
   "id": "a94dccd4-a6c7-4564-91bc-0c80c4823b2e",
   "metadata": {},
   "outputs": [
    {
     "data": {
      "text/html": [
       "<pre style=\"word-wrap: normal;white-space: pre;background: #fff0;line-height: 1.1;font-family: &quot;Courier New&quot;,Courier,monospace\">     ┌───┐┌───┐┌───┐┌───┐┌───┐\n",
       "q_0: ┤ X ├┤ H ├┤ X ├┤ H ├┤ X ├\n",
       "     ├───┤└───┘└─┬─┘├───┤└───┘\n",
       "q_1: ┤ X ├───────■──┤ X ├─────\n",
       "     ├───┤       │  ├───┤     \n",
       "q_2: ┤ X ├───────■──┤ X ├─────\n",
       "     ├───┤       │  ├───┤     \n",
       "q_3: ┤ X ├───────■──┤ X ├─────\n",
       "     ├───┤       │  ├───┤     \n",
       "q_4: ┤ X ├───────■──┤ X ├─────\n",
       "     └───┘          └───┘     \n",
       "q_5: ─────────────────────────\n",
       "                              \n",
       "q_6: ─────────────────────────\n",
       "                              \n",
       "q_7: ─────────────────────────\n",
       "                              \n",
       "q_8: ─────────────────────────\n",
       "                              </pre>"
      ],
      "text/plain": [
       "     ┌───┐┌───┐┌───┐┌───┐┌───┐\n",
       "q_0: ┤ X ├┤ H ├┤ X ├┤ H ├┤ X ├\n",
       "     ├───┤└───┘└─┬─┘├───┤└───┘\n",
       "q_1: ┤ X ├───────■──┤ X ├─────\n",
       "     ├───┤       │  ├───┤     \n",
       "q_2: ┤ X ├───────■──┤ X ├─────\n",
       "     ├───┤       │  ├───┤     \n",
       "q_3: ┤ X ├───────■──┤ X ├─────\n",
       "     ├───┤       │  ├───┤     \n",
       "q_4: ┤ X ├───────■──┤ X ├─────\n",
       "     └───┘          └───┘     \n",
       "q_5: ─────────────────────────\n",
       "                              \n",
       "q_6: ─────────────────────────\n",
       "                              \n",
       "q_7: ─────────────────────────\n",
       "                              \n",
       "q_8: ─────────────────────────\n",
       "                              "
      ]
     },
     "execution_count": 146,
     "metadata": {},
     "output_type": "execute_result"
    }
   ],
   "source": []
  },
  {
   "cell_type": "code",
   "execution_count": 149,
   "id": "4681b070-a7c7-4967-8326-a7d141b7ed63",
   "metadata": {},
   "outputs": [
    {
     "data": {
      "text/plain": [
       "5.0242958677880805e-15"
      ]
     },
     "execution_count": 149,
     "metadata": {},
     "output_type": "execute_result"
    }
   ],
   "source": [
    "np.linalg.norm(Operator(qc.reverse_bits())-R(4))"
   ]
  },
  {
   "cell_type": "code",
   "execution_count": 154,
   "id": "0c685c4b-c012-4286-b67e-366cd0e50ccd",
   "metadata": {},
   "outputs": [
    {
     "data": {
      "text/html": [
       "<pre style=\"word-wrap: normal;white-space: pre;background: #fff0;line-height: 1.1;font-family: &quot;Courier New&quot;,Courier,monospace\">     ┌───┐               \n",
       "q_0: ┤ X ├───────────────\n",
       "     └─┬─┘┌───┐          \n",
       "q_1: ──┼──┤ X ├──────────\n",
       "       │  └─┬─┘┌───┐     \n",
       "q_2: ──┼────┼──┤ X ├─────\n",
       "       │    │  └─┬─┘┌───┐\n",
       "q_3: ──┼────┼────┼──┤ X ├\n",
       "       │    │    │  └─┬─┘\n",
       "q_4: ──■────■────■────■──\n",
       "       │    │    │    │  \n",
       "q_5: ──■────┼────┼────┼──\n",
       "            │    │    │  \n",
       "q_6: ───────■────┼────┼──\n",
       "                 │    │  \n",
       "q_7: ────────────■────┼──\n",
       "                      │  \n",
       "q_8: ─────────────────■──\n",
       "                         </pre>"
      ],
      "text/plain": [
       "     ┌───┐               \n",
       "q_0: ┤ X ├───────────────\n",
       "     └─┬─┘┌───┐          \n",
       "q_1: ──┼──┤ X ├──────────\n",
       "       │  └─┬─┘┌───┐     \n",
       "q_2: ──┼────┼──┤ X ├─────\n",
       "       │    │  └─┬─┘┌───┐\n",
       "q_3: ──┼────┼────┼──┤ X ├\n",
       "       │    │    │  └─┬─┘\n",
       "q_4: ──■────■────■────■──\n",
       "       │    │    │    │  \n",
       "q_5: ──■────┼────┼────┼──\n",
       "            │    │    │  \n",
       "q_6: ───────■────┼────┼──\n",
       "                 │    │  \n",
       "q_7: ────────────■────┼──\n",
       "                      │  \n",
       "q_8: ─────────────────■──\n",
       "                         "
      ]
     },
     "execution_count": 154,
     "metadata": {},
     "output_type": "execute_result"
    }
   ],
   "source": [
    "n=4\n"
   ]
  },
  {
   "cell_type": "code",
   "execution_count": 156,
   "id": "d73f5262-3296-4e94-983e-3bc73f0ac115",
   "metadata": {},
   "outputs": [
    {
     "data": {
      "text/plain": [
       "0.0"
      ]
     },
     "execution_count": 156,
     "metadata": {},
     "output_type": "execute_result"
    }
   ],
   "source": [
    "np.linalg.norm(Operator(qc.reverse_bits()).data-C(n))"
   ]
  },
  {
   "cell_type": "code",
   "execution_count": 172,
   "id": "55b3ca45-fba7-4b1b-8b62-91b3c138e4c5",
   "metadata": {},
   "outputs": [
    {
     "data": {
      "text/html": [
       "<pre style=\"word-wrap: normal;white-space: pre;background: #fff0;line-height: 1.1;font-family: &quot;Courier New&quot;,Courier,monospace\">           ┌───────────────┐     \n",
       " q_0: ─────┤0              ├─────\n",
       "           │               │     \n",
       " q_1: ─────┤1              ├─────\n",
       "           │               │     \n",
       " q_2: ─────┤2 circuit-3534 ├─────\n",
       "           │               │     \n",
       " q_3: ─────┤3              ├─────\n",
       "           │               │     \n",
       " q_4: ─────┤4              ├─────\n",
       "      ┌───┐└───────┬───────┘┌───┐\n",
       " q_5: ┤ X ├────────■────────┤ X ├\n",
       "      └───┘                 └───┘\n",
       " q_6: ───────────────────────────\n",
       "                                 \n",
       " q_7: ───────────────────────────\n",
       "                                 \n",
       " q_8: ───────────────────────────\n",
       "                                 \n",
       " q_9: ───────────────────────────\n",
       "                                 \n",
       "q_10: ───────────────────────────\n",
       "                                 </pre>"
      ],
      "text/plain": [
       "           ┌───────────────┐     \n",
       " q_0: ─────┤0              ├─────\n",
       "           │               │     \n",
       " q_1: ─────┤1              ├─────\n",
       "           │               │     \n",
       " q_2: ─────┤2 circuit-3534 ├─────\n",
       "           │               │     \n",
       " q_3: ─────┤3              ├─────\n",
       "           │               │     \n",
       " q_4: ─────┤4              ├─────\n",
       "      ┌───┐└───────┬───────┘┌───┐\n",
       " q_5: ┤ X ├────────■────────┤ X ├\n",
       "      └───┘                 └───┘\n",
       " q_6: ───────────────────────────\n",
       "                                 \n",
       " q_7: ───────────────────────────\n",
       "                                 \n",
       " q_8: ───────────────────────────\n",
       "                                 \n",
       " q_9: ───────────────────────────\n",
       "                                 \n",
       "q_10: ───────────────────────────\n",
       "                                 "
      ]
     },
     "execution_count": 172,
     "metadata": {},
     "output_type": "execute_result"
    }
   ],
   "source": [
    "n=int(np.log2(len(psi)))\n",
    "qc=state_prep_circ(psi)\n",
    "gate=qc.to_gate().control(1)\n",
    "qc=QuantumCircuit(11)\n",
    "qc.x(n)\n",
    "qc.append(gate,[n]+list(range(n)))\n",
    "qc.x(n)\n",
    "qc.draw()"
   ]
  },
  {
   "cell_type": "code",
   "execution_count": 173,
   "id": "eaecbbdb-634b-46fc-801d-ba09b2ee614e",
   "metadata": {},
   "outputs": [
    {
     "data": {
      "text/plain": [
       "2.7740321090451425e-12"
      ]
     },
     "execution_count": 173,
     "metadata": {},
     "output_type": "execute_result"
    }
   ],
   "source": [
    "np.linalg.norm(Operator(qc.reverse_bits())-U_c(state_prep(psi)))"
   ]
  },
  {
   "cell_type": "code",
   "execution_count": null,
   "id": "78773b92-5de9-490a-a845-24f3b4d40b99",
   "metadata": {},
   "outputs": [],
   "source": []
  }
 ],
 "metadata": {
  "kernelspec": {
   "display_name": "Python 3 (ipykernel)",
   "language": "python",
   "name": "python3"
  },
  "language_info": {
   "codemirror_mode": {
    "name": "ipython",
    "version": 3
   },
   "file_extension": ".py",
   "mimetype": "text/x-python",
   "name": "python",
   "nbconvert_exporter": "python",
   "pygments_lexer": "ipython3",
   "version": "3.11.5"
  }
 },
 "nbformat": 4,
 "nbformat_minor": 5
}
