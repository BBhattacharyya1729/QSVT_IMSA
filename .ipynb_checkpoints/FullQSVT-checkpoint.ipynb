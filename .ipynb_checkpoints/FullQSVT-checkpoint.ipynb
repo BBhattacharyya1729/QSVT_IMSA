{
 "cells": [
  {
   "cell_type": "code",
   "execution_count": 1,
   "id": "1b5982dd-f100-42fe-b65c-055555b42333",
   "metadata": {},
   "outputs": [],
   "source": [
    "import numpy as np\n",
    "import matplotlib.pyplot as plt\n",
    "from qiskit import QuantumCircuit\n",
    "from qiskit.circuit import Parameter\n",
    "from qiskit_aer import AerSimulator\n",
    "from qiskit_aer.utils import insert_noise\n",
    "from pyqsp.angle_sequence import angle_sequence\n",
    "from qiskit.quantum_info import Kraus\n",
    "from qiskit_aer.noise import NoiseModel,depolarizing_error"
   ]
  },
  {
   "cell_type": "code",
   "execution_count": 5,
   "id": "538475d6-e749-4759-9e14-2beded9a6d45",
   "metadata": {},
   "outputs": [
    {
     "data": {
      "text/html": [
       "<pre style=\"word-wrap: normal;white-space: pre;background: #fff0;line-height: 1.1;font-family: &quot;Courier New&quot;,Courier,monospace\">   ┌────────────────┐\n",
       "q: ┤ Rx(-2*acos(x)) ├\n",
       "   └────────────────┘</pre>"
      ],
      "text/plain": [
       "   ┌────────────────┐\n",
       "q: ┤ Rx(-2*acos(x)) ├\n",
       "   └────────────────┘"
      ]
     },
     "execution_count": 5,
     "metadata": {},
     "output_type": "execute_result"
    }
   ],
   "source": [
    "W = QuantumCircuit(1)\n",
    "x = Parameter('x')\n",
    "W.rx(-2 * np.arccos(x),0)\n",
    "W.draw()"
   ]
  },
  {
   "cell_type": "code",
   "execution_count": 37,
   "id": "98f0384a-ba94-448a-b517-ca9dd30d363c",
   "metadata": {},
   "outputs": [
    {
     "data": {
      "text/html": [
       "<pre style=\"word-wrap: normal;white-space: pre;background: #fff0;line-height: 1.1;font-family: &quot;Courier New&quot;,Courier,monospace\">   ┌─────────┐┌────────────────┐┌──────────┐\n",
       "q: ┤ Rz(π/2) ├┤ Rx(-2*acos(x)) ├┤ Rz(-π/2) ├\n",
       "   └─────────┘└────────────────┘└──────────┘</pre>"
      ],
      "text/plain": [
       "   ┌─────────┐┌────────────────┐┌──────────┐\n",
       "q: ┤ Rz(π/2) ├┤ Rx(-2*acos(x)) ├┤ Rz(-π/2) ├\n",
       "   └─────────┘└────────────────┘└──────────┘"
      ]
     },
     "execution_count": 37,
     "metadata": {},
     "output_type": "execute_result"
    }
   ],
   "source": [
    "R = QuantumCircuit(1)\n",
    "R.rz(np.pi/2,0)\n",
    "R=R.compose(W,[0])\n",
    "R.rz(-np.pi/2,0)\n",
    "R.draw()"
   ]
  },
  {
   "cell_type": "code",
   "execution_count": 38,
   "id": "bfe7d3fa-9a9f-4c11-9308-4986036fcab8",
   "metadata": {},
   "outputs": [
    {
     "name": "stdout",
     "output_type": "stream",
     "text": [
      "Operator([[1.+0.j, 0.+0.j],\n",
      "          [0.+0.j, 1.+0.j]],\n",
      "         input_dims=(2,), output_dims=(2,))\n"
     ]
    }
   ],
   "source": [
    "from qiskit.quantum_info import Operator\n",
    "Operator(R.assign_parameters([1]))"
   ]
  },
  {
   "cell_type": "code",
   "execution_count": 39,
   "id": "675b4a6f-adb9-4815-b862-e61504466cbe",
   "metadata": {},
   "outputs": [
    {
     "name": "stdout",
     "output_type": "stream",
     "text": [
      "Operator([[0.2+0.j       , 0. +0.9797959j],\n",
      "          [0. +0.9797959j, 0.2+0.j       ]],\n",
      "         input_dims=(2,), output_dims=(2,))\n"
     ]
    }
   ],
   "source": [
    "Operator(W.assign_parameters([0.2]))"
   ]
  },
  {
   "cell_type": "code",
   "execution_count": 22,
   "id": "7ae7add7-39c4-44e5-adfb-636875e45a48",
   "metadata": {},
   "outputs": [],
   "source": [
    "import scipy"
   ]
  },
  {
   "cell_type": "code",
   "execution_count": 29,
   "id": "3748f88d-a2f2-4885-9ff6-c1d35b2220d6",
   "metadata": {},
   "outputs": [
    {
     "data": {
      "text/plain": [
       "array([[0.2+0.j       , 0. +0.9797959j],\n",
       "       [0. +0.9797959j, 0.2+0.j       ]])"
      ]
     },
     "execution_count": 29,
     "metadata": {},
     "output_type": "execute_result"
    }
   ],
   "source": [
    "scipy.linalg.expm(-1j * np.pi/4  * np.array([[1,0],[0,-1]])) @ Operator(R.assign_parameters([0.2])).data @ scipy.linalg.expm(1j * np.pi/4  * np.array([[1,0],[0,-1]]))"
   ]
  },
  {
   "cell_type": "code",
   "execution_count": 30,
   "id": "691cb8dc-dbd3-453d-9b41-a9a1ba7ee893",
   "metadata": {},
   "outputs": [
    {
     "data": {
      "text/plain": [
       "array([[ 0.2      +0.j, -0.9797959+0.j],\n",
       "       [ 0.9797959+0.j,  0.2      +0.j]])"
      ]
     },
     "execution_count": 30,
     "metadata": {},
     "output_type": "execute_result"
    }
   ],
   "source": [
    "Operator(R.assign_parameters([0.2])).data"
   ]
  },
  {
   "cell_type": "code",
   "execution_count": 32,
   "id": "9c977b15-6bfe-4e17-a8a9-f82987cac4c3",
   "metadata": {},
   "outputs": [
    {
     "data": {
      "text/html": [
       "<pre style=\"word-wrap: normal;white-space: pre;background: #fff0;line-height: 1.1;font-family: &quot;Courier New&quot;,Courier,monospace\">   ┌────────────────┐\n",
       "q: ┤ Ry(-2*acos(x)) ├\n",
       "   └────────────────┘</pre>"
      ],
      "text/plain": [
       "   ┌────────────────┐\n",
       "q: ┤ Ry(-2*acos(x)) ├\n",
       "   └────────────────┘"
      ]
     },
     "execution_count": 32,
     "metadata": {},
     "output_type": "execute_result"
    }
   ],
   "source": [
    "Q = QuantumCircuit(1)\n",
    "x = Parameter('x')\n",
    "Q.ry(-2 * np.arccos(x),0)\n",
    "Q.draw()"
   ]
  },
  {
   "cell_type": "code",
   "execution_count": 36,
   "id": "544a8cf6-d141-40ce-b001-ca4717e5bb20",
   "metadata": {},
   "outputs": [
    {
     "data": {
      "text/plain": [
       "array([[-0.2      +0.j,  0.9797959+0.j],\n",
       "       [-0.9797959+0.j, -0.2      +0.j]])"
      ]
     },
     "execution_count": 36,
     "metadata": {},
     "output_type": "execute_result"
    }
   ],
   "source": [
    "Operator(Q.assign_parameters([-0.2])).data"
   ]
  },
  {
   "cell_type": "code",
   "execution_count": 34,
   "id": "c0089daf-1c26-4a25-98e8-289ab65ef09b",
   "metadata": {},
   "outputs": [
    {
     "data": {
      "text/plain": [
       "array([[0.70710678-0.70710678j, 0.        +0.j        ],\n",
       "       [0.        +0.j        , 0.70710678+0.70710678j]])"
      ]
     },
     "execution_count": 34,
     "metadata": {},
     "output_type": "execute_result"
    }
   ],
   "source": [
    "scipy.linalg.expm(-1j * np.pi/4  * np.array([[1,0],[0,-1]]))"
   ]
  },
  {
   "cell_type": "code",
   "execution_count": 35,
   "id": "b2245242-8cdb-4603-838f-4158616eaf2b",
   "metadata": {},
   "outputs": [
    {
     "data": {
      "text/plain": [
       "array([[0.70710678+0.70710678j, 0.        +0.j        ],\n",
       "       [0.        +0.j        , 0.70710678-0.70710678j]])"
      ]
     },
     "execution_count": 35,
     "metadata": {},
     "output_type": "execute_result"
    }
   ],
   "source": [
    "scipy.linalg.expm(1j * np.pi/4  * np.array([[1,0],[0,-1]]))"
   ]
  },
  {
   "cell_type": "code",
   "execution_count": null,
   "id": "7623f6b2-fa39-42da-8e5c-58128f9ab4be",
   "metadata": {},
   "outputs": [],
   "source": []
  }
 ],
 "metadata": {
  "kernelspec": {
   "display_name": "Python 3 (ipykernel)",
   "language": "python",
   "name": "python3"
  },
  "language_info": {
   "codemirror_mode": {
    "name": "ipython",
    "version": 3
   },
   "file_extension": ".py",
   "mimetype": "text/x-python",
   "name": "python",
   "nbconvert_exporter": "python",
   "pygments_lexer": "ipython3",
   "version": "3.11.5"
  }
 },
 "nbformat": 4,
 "nbformat_minor": 5
}
