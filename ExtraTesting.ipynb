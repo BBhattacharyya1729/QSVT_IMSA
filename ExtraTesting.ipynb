{
 "cells": [
  {
   "cell_type": "code",
   "execution_count": 1,
   "id": "fc149bfb-dd24-411a-8c50-babec3c8c367",
   "metadata": {},
   "outputs": [],
   "source": [
    "import numpy as np\n",
    "from qiskit.circuit.random import random_circuit\n",
    "from QSVT import *"
   ]
  },
  {
   "cell_type": "code",
   "execution_count": 3,
   "id": "ecc0dc82-5090-43fa-b9be-3e16e901d009",
   "metadata": {},
   "outputs": [
    {
     "name": "stdout",
     "output_type": "stream",
     "text": [
      "0\n",
      "1\n",
      "2\n",
      "3\n",
      "4\n",
      "5\n",
      "6\n",
      "7\n",
      "8\n",
      "9\n",
      "Max Error: 6.236040670054661e-06\n"
     ]
    }
   ],
   "source": [
    "'''All Degreeees'''\n",
    "li = []\n",
    "for m in range(10):\n",
    "    deg = np.random.randint(3,11)\n",
    "    P=2*np.random.random(deg)-1 + 2j*np.random.random(deg)-1j\n",
    "    P=norm(P)\n",
    "    polys = poly_decomp(P)\n",
    "    angles_list = [get_new_angles(getRealAngles(p)) for p in poly_decomp(P)]\n",
    "\n",
    "    k=np.random.randint(3,7)\n",
    "    circ = random_circuit(k, 10)\n",
    "    rank =np.random.randint(1,2**k+1)\n",
    "    \n",
    "    U=Operator(circ).data\n",
    "    l = 2*np.random.randint(0,2,2**k)-1\n",
    "\n",
    "    o = np.zeros((2**k,2**k),dtype='complex128')\n",
    "    for j,i in enumerate(U):\n",
    "        o+= np.outer(i,i.conjugate()) * l[j]\n",
    "    U_circ = QuantumCircuit(k)\n",
    "    U_circ.unitary(o,range(k)[::-1])\n",
    "    Operator(U_circ.reverse_bits())-o\n",
    "    A=o[:rank,:rank]\n",
    "    li.append(np.linalg.norm(Operator(FullQSVTFunc(angles_list,U_circ,rank).reverse_bits()).data[:rank,:rank]-np.sum(np.array([v*np.linalg.matrix_power(A, n) for n,v in enumerate(P)]),axis=0)))\n",
    "    print(m)\n",
    "print(f\"Max Error: {np.max(li)}\")"
   ]
  },
  {
   "cell_type": "code",
   "execution_count": null,
   "id": "6ce2f8c2-e9eb-4fdf-a314-71baee9cbf8d",
   "metadata": {},
   "outputs": [],
   "source": []
  }
 ],
 "metadata": {
  "kernelspec": {
   "display_name": "Python 3 (ipykernel)",
   "language": "python",
   "name": "python3"
  },
  "language_info": {
   "codemirror_mode": {
    "name": "ipython",
    "version": 3
   },
   "file_extension": ".py",
   "mimetype": "text/x-python",
   "name": "python",
   "nbconvert_exporter": "python",
   "pygments_lexer": "ipython3",
   "version": "3.11.5"
  }
 },
 "nbformat": 4,
 "nbformat_minor": 5
}
