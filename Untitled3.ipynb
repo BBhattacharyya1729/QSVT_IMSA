{
 "cells": [
  {
   "cell_type": "code",
   "execution_count": 17,
   "id": "8ef4d8f2-07ce-42ce-8318-9081f9c9104e",
   "metadata": {},
   "outputs": [],
   "source": [
    "import torch\n",
    "from torch.nn.functional import conv1d, pad\n",
    "from torch.fft import fft\n",
    "from torchaudio.transforms import Convolve, FFTConvolve\n",
    "import time\n",
    "import numpy as np\n",
    "\n",
    "# Use CUDA if available\n",
    "# device = torch.device(\"cuda\" if torch.cuda.is_available() else \"cpu\")\n",
    "device = \"cpu\"\n",
    "def objective_torch(x, P):\n",
    "    x.requires_grad = True\n",
    "\n",
    "    real_part = x[:len(x) // 2]\n",
    "    imag_part = x[len(x) // 2:]\n",
    "\n",
    "    real_flip = torch.flip(real_part, dims=[0])\n",
    "    imag_flip = torch.flip(-1*imag_part, dims=[0])\n",
    "\n",
    "    conv_real_part = FFTConvolve(\"full\").forward(real_part, real_flip)\n",
    "    conv_imag_part = FFTConvolve(\"full\").forward(imag_part, imag_flip)\n",
    "\n",
    "    conv_real_imag = FFTConvolve(\"full\").forward(real_part, imag_flip)\n",
    "    conv_imag_real = FFTConvolve(\"full\").forward(imag_part, real_flip)\n",
    "\n",
    "    # Compute real and imaginary part of the convolution\n",
    "    real_conv = conv_real_part - conv_imag_part\n",
    "    imag_conv = conv_real_imag + conv_imag_real\n",
    "\n",
    "    # Combine to form the complex result\n",
    "    conv_result = torch.complex(real_conv, imag_conv)\n",
    "\n",
    "    # Compute loss using squared distance function\n",
    "    loss = torch.norm(P - conv_result)**2\n",
    "    return loss\n",
    "\n",
    "def complex_conv_by_flip_conj(x):\n",
    "    real_part = x.real\n",
    "    imag_part = x.imag\n",
    "\n",
    "    real_flip = torch.flip(real_part, dims=[0])\n",
    "    imag_flip = torch.flip(-1*imag_part, dims=[0])\n",
    "\n",
    "    conv_real_part = FFTConvolve(\"full\").forward(real_part, real_flip)\n",
    "    conv_imag_part = FFTConvolve(\"full\").forward(imag_part, imag_flip)\n",
    "\n",
    "    conv_real_imag = FFTConvolve(\"full\").forward(real_part, imag_flip)\n",
    "    conv_imag_real = FFTConvolve(\"full\").forward(imag_part, real_flip)\n",
    "\n",
    "    # Compute real and imaginary part of the convolution\n",
    "    real_conv = conv_real_part - conv_imag_part\n",
    "    imag_conv = conv_real_imag + conv_imag_real\n",
    "\n",
    "    # Combine to form the complex result\n",
    "    return torch.complex(real_conv, imag_conv)\n",
    "\n",
    "def get_GSPQ(P,verbose=False):\n",
    "    poly = (torch.tensor(P,dtype=torch.complex128))\n",
    "    conv_p_negative = complex_conv_by_flip_conj(poly)*-1\n",
    "    conv_p_negative[poly.shape[0] - 1] = 1 - torch.norm(poly) ** 2\n",
    "\n",
    "    # Initializing Q randomly to start with\n",
    "    initial = torch.randn(poly.shape[0]*2, device=device, requires_grad=True)\n",
    "    initial = (initial / torch.norm(initial)).clone().detach().requires_grad_(True)\n",
    "\n",
    "    optimizer = torch.optim.LBFGS([initial], max_iter=1000)\n",
    "    t0 = time.time()\n",
    "\n",
    "    def closure():\n",
    "        optimizer.zero_grad()\n",
    "        loss = objective_torch(initial, conv_p_negative)\n",
    "        loss.backward()\n",
    "        return loss\n",
    "\n",
    "    optimizer.step(closure)\n",
    "\n",
    "    t1 = time.time()\n",
    "    if(verbose):\n",
    "        print(f'Time: {t1-t0}')\n",
    "        print(f'Final: {closure().item()}')\n",
    "        print(f\"# Iterations: {optimizer.state[optimizer._params[0]]['n_iter']}\")\n",
    "    return (initial[:poly.shape[0]]+1j*initial[poly.shape[0]:]).detach().numpy()\n"
   ]
  },
  {
   "cell_type": "code",
   "execution_count": 128,
   "id": "856a5fc4-3020-4bcf-84bf-6a32fcac0c0f",
   "metadata": {},
   "outputs": [
    {
     "name": "stdout",
     "output_type": "stream",
     "text": [
      "Time: 0.2330024242401123\n",
      "Final: 3.965923145467868e-10\n",
      "# Iterations: 23\n"
     ]
    },
    {
     "data": {
      "text/plain": [
       "1.0000029616435946"
      ]
     },
     "execution_count": 128,
     "metadata": {},
     "output_type": "execute_result"
    }
   ],
   "source": [
    "from QSVT import *\n",
    "P = [0.5,0.5]\n",
    "P = norm(P)*4\n",
    "Q=get_GSPQ(P,verbose=True)\n",
    "\n",
    "theta=np.random.random()*2*np.pi\n",
    "abs(np.polynomial.Polynomial(Q)(np.exp(1j * theta)))**2+abs(np.polynomial.Polynomial(P)(np.exp(1j * theta)))**2\n"
   ]
  },
  {
   "cell_type": "code",
   "execution_count": 129,
   "id": "4c887c3e-7eeb-4a84-ad99-9f5c4a9cecde",
   "metadata": {},
   "outputs": [
    {
     "data": {
      "text/plain": [
       "array([-0.16586977+0.46859378j,  0.16781726-0.47408637j], dtype=complex64)"
      ]
     },
     "execution_count": 129,
     "metadata": {},
     "output_type": "execute_result"
    }
   ],
   "source": [
    "Q"
   ]
  },
  {
   "cell_type": "code",
   "execution_count": 118,
   "id": "0caf17cb-24cb-46e4-be98-b4fdff0626a8",
   "metadata": {},
   "outputs": [],
   "source": [
    "def R(theta,phi,lamb):\n",
    "    return np.array([[np.exp(1j * (lamb+phi)) * np.cos(theta),np.exp(1j * phi) * np.sin(theta)],\n",
    "                     [np.exp(1j * lamb) * np.sin(theta),-np.cos(theta)]])\n",
    "def get_GSP_angles(P,Q):\n",
    "    d=len(P)-1\n",
    "    print(d)\n",
    "    S=np.array([P,Q])\n",
    "    a,b = S.T[-1]\n",
    "    theta = [np.arctan(abs(b)/abs(a))]\n",
    "    phi = [np.angle(a/b)]\n",
    "    if(d==0):\n",
    "        lamb = np.angle(b)\n",
    "        return theta,phi,lamb\n",
    "    S=R(-theta[0],-phi[0],0).T @ S\n",
    "    S=np.array([S[0][1:d+1],S[0][0:d]])\n",
    "    thetas,phis,lamb = get_GSP_angles(S[0],S[1])\n",
    "    return thetas+theta,phis+phi,lamb"
   ]
  },
  {
   "cell_type": "code",
   "execution_count": 119,
   "id": "d78afda8-8861-4e98-af55-437473c28cfd",
   "metadata": {},
   "outputs": [
    {
     "name": "stdout",
     "output_type": "stream",
     "text": [
      "3\n",
      "2\n",
      "1\n",
      "0\n"
     ]
    }
   ],
   "source": [
    "thetas,phis,lamb = get_GSP_angles(P,Q)"
   ]
  },
  {
   "cell_type": "code",
   "execution_count": 120,
   "id": "840caf95-f9bb-4482-87bc-d1456114e1ac",
   "metadata": {},
   "outputs": [
    {
     "data": {
      "text/plain": [
       "array([0.19375211+0.15532289j, 0.21180492+0.1201748j ,\n",
       "       0.02841774+0.26347784j, 0.18289662+0.24808845j])"
      ]
     },
     "execution_count": 120,
     "metadata": {},
     "output_type": "execute_result"
    }
   ],
   "source": [
    "P"
   ]
  },
  {
   "cell_type": "code",
   "execution_count": 121,
   "id": "15e3eb5a-dac3-4689-a79f-0e86ccc99a7a",
   "metadata": {},
   "outputs": [
    {
     "data": {
      "text/plain": [
       "array([ 0.13032198-0.27746356j,  0.48661047+0.04332734j,\n",
       "       -0.5669382 -0.09973925j, -0.14783987+0.18133655j], dtype=complex64)"
      ]
     },
     "execution_count": 121,
     "metadata": {},
     "output_type": "execute_result"
    }
   ],
   "source": [
    "Q"
   ]
  },
  {
   "cell_type": "code",
   "execution_count": 122,
   "id": "eaddd001-f77d-4ab8-a6d7-f5380842d076",
   "metadata": {},
   "outputs": [],
   "source": [
    "A = np.exp(1j)\n",
    "U = np.array([[A,0],[0,1]])"
   ]
  },
  {
   "cell_type": "code",
   "execution_count": 123,
   "id": "29f801a1-eb3d-4b92-811b-450f500ed332",
   "metadata": {},
   "outputs": [],
   "source": [
    "O = (R(thetas[3],phis[3],0) * A) @ (R(thetas[2],phis[2],0) * A) @ (R(thetas[1],phis[1],0) * A) @ (R(thetas[0],phis[0],lamb) )"
   ]
  },
  {
   "cell_type": "code",
   "execution_count": 124,
   "id": "a8b10674-391e-4372-b4f8-467a4fa4d2d9",
   "metadata": {},
   "outputs": [
    {
     "data": {
      "text/plain": [
       "(-0.26041500003235774+0.09488067839771547j)"
      ]
     },
     "execution_count": 124,
     "metadata": {},
     "output_type": "execute_result"
    }
   ],
   "source": [
    "np.polynomial.Polynomial(P)(A)"
   ]
  },
  {
   "cell_type": "code",
   "execution_count": 125,
   "id": "11256186-db39-491b-8350-87ea81933136",
   "metadata": {},
   "outputs": [
    {
     "data": {
      "text/plain": [
       "(0.8041723885129269-0.5189793839866156j)"
      ]
     },
     "execution_count": 125,
     "metadata": {},
     "output_type": "execute_result"
    }
   ],
   "source": [
    "np.polynomial.Polynomial(Q)(A)"
   ]
  },
  {
   "cell_type": "code",
   "execution_count": 127,
   "id": "69a57981-b6f0-48e2-9ff0-b022c887dc13",
   "metadata": {},
   "outputs": [
    {
     "data": {
      "text/plain": [
       "array([[-0.05927359+0.28034501j, -0.80733512-0.51585204j],\n",
       "       [ 0.95470831+0.08015834j,  0.12307935-0.25876274j]])"
      ]
     },
     "execution_count": 127,
     "metadata": {},
     "output_type": "execute_result"
    }
   ],
   "source": [
    "O"
   ]
  },
  {
   "cell_type": "code",
   "execution_count": null,
   "id": "5e91ae09-60f9-41ad-85a0-6237126025f7",
   "metadata": {},
   "outputs": [],
   "source": []
  }
 ],
 "metadata": {
  "kernelspec": {
   "display_name": "Python 3 (ipykernel)",
   "language": "python",
   "name": "python3"
  },
  "language_info": {
   "codemirror_mode": {
    "name": "ipython",
    "version": 3
   },
   "file_extension": ".py",
   "mimetype": "text/x-python",
   "name": "python",
   "nbconvert_exporter": "python",
   "pygments_lexer": "ipython3",
   "version": "3.11.5"
  }
 },
 "nbformat": 4,
 "nbformat_minor": 5
}
